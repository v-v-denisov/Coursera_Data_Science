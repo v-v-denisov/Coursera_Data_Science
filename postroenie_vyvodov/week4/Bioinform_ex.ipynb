{
 "cells": [
  {
   "cell_type": "markdown",
   "metadata": {},
   "source": [
    "# Задание по программированию: Дифференциально экспрессированные гены"
   ]
  },
  {
   "cell_type": "code",
   "execution_count": 1,
   "metadata": {},
   "outputs": [],
   "source": [
    "import numpy as np\n",
    "import pandas as pd\n",
    "\n",
    "from scipy import stats\n",
    "%matplotlib inline\n",
    "import matplotlib.pyplot as plt\n",
    "import seaborn as sns"
   ]
  },
  {
   "attachments": {
    "%D0%B8%D0%B7%D0%BE%D0%B1%D1%80%D0%B0%D0%B6%D0%B5%D0%BD%D0%B8%D0%B5.png": {
     "image/png": "[encoded data removed]"
    }
   },
   "cell_type": "markdown",
   "metadata": {},
   "source": [
    "Данные для этой задачи взяты из исследования, проведенного в Stanford School of Medicine. В исследовании была предпринята попытка выявить набор  генов, которые позволили  бы более точно диагностировать возникновение рака груди на самых ранних стадиях.\n",
    "\n",
    "В эксперименте принимали участие 24 человек, у которых не было рака груди (normal), 25 человек, у которых это заболевание было диагностировано на ранней стадии (early neoplasia), и 23 человека с сильно выраженными симптомами (cancer).\n",
    "\n",
    "![%D0%B8%D0%B7%D0%BE%D0%B1%D1%80%D0%B0%D0%B6%D0%B5%D0%BD%D0%B8%D0%B5.png](attachment:%D0%B8%D0%B7%D0%BE%D0%B1%D1%80%D0%B0%D0%B6%D0%B5%D0%BD%D0%B8%D0%B5.png)\n",
    "\n",
    "Ученые провели секвенирование биологического материала испытуемых, чтобы понять, какие из этих генов наиболее активны в клетках больных людей. \n",
    "\n",
    "Секвенирование — это определение степени активности генов в анализируемом образце с помощью подсчёта количества соответствующей каждому гену РНК.\n",
    "\n",
    "В данных для этого задания вы найдете именно эту количественную меру активности каждого из 15748 генов у каждого из 72 человек, принимавших участие в эксперименте.\n",
    "\n",
    "Вам нужно будет определить те гены, активность которых у людей в разных стадиях заболевания отличается статистически значимо.\n",
    "\n",
    "Кроме того, вам нужно будет оценить не только статистическую, но и практическую значимость этих результатов, которая часто используется в подобных исследованиях.\n",
    "\n",
    "Диагноз человека содержится в столбце под названием \"Diagnosis\". \n",
    "\n",
    "Практическая значимость изменения\n",
    "\n",
    "Цель исследований — найти гены, средняя экспрессия которых отличается не только статистически значимо, но и достаточно сильно. В экспрессионных исследованиях для этого часто используется метрика, которая называется fold change (кратность изменения). Определяется она следующим образом:\n",
    "\n",
    "$$F_C (C,T) = \\frac{T}{C}, T>C \\; или \\; \\frac{C}{T}, C>T $$\n",
    "\n",
    "где C,T — средние значения экспрессии гена в control и treatment группах соответственно. По сути, fold change показывает, во сколько раз отличаются средние двух выборок."
   ]
  },
  {
   "cell_type": "code",
   "execution_count": 4,
   "metadata": {},
   "outputs": [
    {
     "name": "stdout",
     "output_type": "stream",
     "text": [
      "<class 'pandas.core.frame.DataFrame'>\n",
      "RangeIndex: 72 entries, 0 to 71\n",
      "Columns: 15750 entries, Patient_id to EIF1AY\n",
      "dtypes: float64(15748), object(2)\n",
      "memory usage: 8.7+ MB\n"
     ]
    }
   ],
   "source": [
    "data = pd.read_csv('gene.csv', delimiter = ',', header = 0)\n",
    "data.info()"
   ]
  },
  {
   "cell_type": "code",
   "execution_count": 5,
   "metadata": {},
   "outputs": [
    {
     "data": {
      "text/plain": [
       "(72, 15750)"
      ]
     },
     "execution_count": 5,
     "metadata": {},
     "output_type": "execute_result"
    }
   ],
   "source": [
    "data.shape"
   ]
  },
  {
   "cell_type": "code",
   "execution_count": 6,
   "metadata": {},
   "outputs": [
    {
     "data": {
      "text/html": [
       "<div>\n",
       "<style scoped>\n",
       "    .dataframe tbody tr th:only-of-type {\n",
       "        vertical-align: middle;\n",
       "    }\n",
       "\n",
       "    .dataframe tbody tr th {\n",
       "        vertical-align: top;\n",
       "    }\n",
       "\n",
       "    .dataframe thead th {\n",
       "        text-align: right;\n",
       "    }\n",
       "</style>\n",
       "<table border=\"1\" class=\"dataframe\">\n",
       "  <thead>\n",
       "    <tr style=\"text-align: right;\">\n",
       "      <th></th>\n",
       "      <th>Patient_id</th>\n",
       "      <th>Diagnosis</th>\n",
       "      <th>LOC643837</th>\n",
       "      <th>LOC100130417</th>\n",
       "      <th>SAMD11</th>\n",
       "      <th>NOC2L</th>\n",
       "      <th>KLHL17</th>\n",
       "      <th>PLEKHN1</th>\n",
       "      <th>C1orf170</th>\n",
       "      <th>HES4</th>\n",
       "      <th>...</th>\n",
       "      <th>CLIC2</th>\n",
       "      <th>RPS4Y1</th>\n",
       "      <th>ZFY</th>\n",
       "      <th>PRKY</th>\n",
       "      <th>USP9Y</th>\n",
       "      <th>DDX3Y</th>\n",
       "      <th>CD24</th>\n",
       "      <th>CYorf15B</th>\n",
       "      <th>KDM5D</th>\n",
       "      <th>EIF1AY</th>\n",
       "    </tr>\n",
       "  </thead>\n",
       "  <tbody>\n",
       "    <tr>\n",
       "      <th>0</th>\n",
       "      <td>STT5425_Breast_001_normal</td>\n",
       "      <td>normal</td>\n",
       "      <td>1.257614</td>\n",
       "      <td>2.408148</td>\n",
       "      <td>13.368622</td>\n",
       "      <td>9.494779</td>\n",
       "      <td>20.880435</td>\n",
       "      <td>12.722017</td>\n",
       "      <td>9.494779</td>\n",
       "      <td>54.349694</td>\n",
       "      <td>...</td>\n",
       "      <td>4.761250</td>\n",
       "      <td>1.257614</td>\n",
       "      <td>1.257614</td>\n",
       "      <td>1.257614</td>\n",
       "      <td>1.257614</td>\n",
       "      <td>1.257614</td>\n",
       "      <td>23.268694</td>\n",
       "      <td>1.257614</td>\n",
       "      <td>1.257614</td>\n",
       "      <td>1.257614</td>\n",
       "    </tr>\n",
       "    <tr>\n",
       "      <th>1</th>\n",
       "      <td>STT5427_Breast_023_normal</td>\n",
       "      <td>normal</td>\n",
       "      <td>4.567931</td>\n",
       "      <td>16.602734</td>\n",
       "      <td>42.477752</td>\n",
       "      <td>25.562376</td>\n",
       "      <td>23.221137</td>\n",
       "      <td>11.622386</td>\n",
       "      <td>14.330573</td>\n",
       "      <td>72.445474</td>\n",
       "      <td>...</td>\n",
       "      <td>6.871902</td>\n",
       "      <td>1.815112</td>\n",
       "      <td>1.815112</td>\n",
       "      <td>1.815112</td>\n",
       "      <td>1.815112</td>\n",
       "      <td>1.815112</td>\n",
       "      <td>10.427023</td>\n",
       "      <td>1.815112</td>\n",
       "      <td>1.815112</td>\n",
       "      <td>1.815112</td>\n",
       "    </tr>\n",
       "    <tr>\n",
       "      <th>2</th>\n",
       "      <td>STT5430_Breast_002_normal</td>\n",
       "      <td>normal</td>\n",
       "      <td>2.077597</td>\n",
       "      <td>3.978294</td>\n",
       "      <td>12.863214</td>\n",
       "      <td>13.728915</td>\n",
       "      <td>14.543176</td>\n",
       "      <td>14.141907</td>\n",
       "      <td>6.232790</td>\n",
       "      <td>57.011005</td>\n",
       "      <td>...</td>\n",
       "      <td>7.096343</td>\n",
       "      <td>2.077597</td>\n",
       "      <td>2.077597</td>\n",
       "      <td>2.077597</td>\n",
       "      <td>2.077597</td>\n",
       "      <td>2.077597</td>\n",
       "      <td>22.344226</td>\n",
       "      <td>2.077597</td>\n",
       "      <td>2.077597</td>\n",
       "      <td>2.077597</td>\n",
       "    </tr>\n",
       "    <tr>\n",
       "      <th>3</th>\n",
       "      <td>STT5439_Breast_003_normal</td>\n",
       "      <td>normal</td>\n",
       "      <td>2.066576</td>\n",
       "      <td>8.520713</td>\n",
       "      <td>14.466035</td>\n",
       "      <td>7.823932</td>\n",
       "      <td>8.520713</td>\n",
       "      <td>2.066576</td>\n",
       "      <td>10.870009</td>\n",
       "      <td>53.292034</td>\n",
       "      <td>...</td>\n",
       "      <td>5.200770</td>\n",
       "      <td>2.066576</td>\n",
       "      <td>2.066576</td>\n",
       "      <td>2.066576</td>\n",
       "      <td>2.066576</td>\n",
       "      <td>2.066576</td>\n",
       "      <td>49.295538</td>\n",
       "      <td>2.066576</td>\n",
       "      <td>2.066576</td>\n",
       "      <td>2.066576</td>\n",
       "    </tr>\n",
       "    <tr>\n",
       "      <th>4</th>\n",
       "      <td>STT5441_Breast_004_normal</td>\n",
       "      <td>normal</td>\n",
       "      <td>2.613616</td>\n",
       "      <td>3.434965</td>\n",
       "      <td>12.682222</td>\n",
       "      <td>10.543189</td>\n",
       "      <td>26.688686</td>\n",
       "      <td>12.484822</td>\n",
       "      <td>1.364917</td>\n",
       "      <td>67.140393</td>\n",
       "      <td>...</td>\n",
       "      <td>11.227770</td>\n",
       "      <td>1.364917</td>\n",
       "      <td>1.364917</td>\n",
       "      <td>1.364917</td>\n",
       "      <td>1.364917</td>\n",
       "      <td>1.364917</td>\n",
       "      <td>23.627911</td>\n",
       "      <td>1.364917</td>\n",
       "      <td>1.364917</td>\n",
       "      <td>1.364917</td>\n",
       "    </tr>\n",
       "  </tbody>\n",
       "</table>\n",
       "<p>5 rows × 15750 columns</p>\n",
       "</div>"
      ],
      "text/plain": [
       "                  Patient_id Diagnosis  LOC643837  LOC100130417     SAMD11  \\\n",
       "0  STT5425_Breast_001_normal    normal   1.257614      2.408148  13.368622   \n",
       "1  STT5427_Breast_023_normal    normal   4.567931     16.602734  42.477752   \n",
       "2  STT5430_Breast_002_normal    normal   2.077597      3.978294  12.863214   \n",
       "3  STT5439_Breast_003_normal    normal   2.066576      8.520713  14.466035   \n",
       "4  STT5441_Breast_004_normal    normal   2.613616      3.434965  12.682222   \n",
       "\n",
       "       NOC2L     KLHL17    PLEKHN1   C1orf170       HES4  ...      CLIC2  \\\n",
       "0   9.494779  20.880435  12.722017   9.494779  54.349694  ...   4.761250   \n",
       "1  25.562376  23.221137  11.622386  14.330573  72.445474  ...   6.871902   \n",
       "2  13.728915  14.543176  14.141907   6.232790  57.011005  ...   7.096343   \n",
       "3   7.823932   8.520713   2.066576  10.870009  53.292034  ...   5.200770   \n",
       "4  10.543189  26.688686  12.484822   1.364917  67.140393  ...  11.227770   \n",
       "\n",
       "     RPS4Y1       ZFY      PRKY     USP9Y     DDX3Y       CD24  CYorf15B  \\\n",
       "0  1.257614  1.257614  1.257614  1.257614  1.257614  23.268694  1.257614   \n",
       "1  1.815112  1.815112  1.815112  1.815112  1.815112  10.427023  1.815112   \n",
       "2  2.077597  2.077597  2.077597  2.077597  2.077597  22.344226  2.077597   \n",
       "3  2.066576  2.066576  2.066576  2.066576  2.066576  49.295538  2.066576   \n",
       "4  1.364917  1.364917  1.364917  1.364917  1.364917  23.627911  1.364917   \n",
       "\n",
       "      KDM5D    EIF1AY  \n",
       "0  1.257614  1.257614  \n",
       "1  1.815112  1.815112  \n",
       "2  2.077597  2.077597  \n",
       "3  2.066576  2.066576  \n",
       "4  1.364917  1.364917  \n",
       "\n",
       "[5 rows x 15750 columns]"
      ]
     },
     "execution_count": 6,
     "metadata": {},
     "output_type": "execute_result"
    }
   ],
   "source": [
    "data.head()"
   ]
  },
  {
   "cell_type": "code",
   "execution_count": 7,
   "metadata": {},
   "outputs": [
    {
     "data": {
      "text/plain": [
       "(72, 15750)"
      ]
     },
     "execution_count": 7,
     "metadata": {},
     "output_type": "execute_result"
    }
   ],
   "source": [
    "data.dropna().shape"
   ]
  },
  {
   "cell_type": "markdown",
   "metadata": {},
   "source": [
    "## Часть 1: применение t-критерия Стьюдента"
   ]
  },
  {
   "cell_type": "markdown",
   "metadata": {},
   "source": [
    "В первой части вам нужно будет применить критерий Стьюдента для проверки гипотезы о равенстве средних в двух независимых выборках. Применить критерий для каждого гена нужно будет дважды:\n",
    "\n",
    "    для групп normal (control) и early neoplasia (treatment)\n",
    "    для групп early neoplasia (control) и cancer (treatment)\n",
    "\n",
    "В качестве ответа в этой части задания необходимо указать количество статистически значимых отличий, которые вы нашли с помощью t-критерия Стьюдента, то есть число генов, у которых p-value этого теста оказался меньше, чем уровень значимости"
   ]
  },
  {
   "cell_type": "code",
   "execution_count": 10,
   "metadata": {},
   "outputs": [
    {
     "name": "stdout",
     "output_type": "stream",
     "text": [
      "(24, 15750) (25, 15750) (23, 15750)\n"
     ]
    }
   ],
   "source": [
    "norm = data[data.Diagnosis == 'normal']\n",
    "early = data[data.Diagnosis == 'early neoplasia']\n",
    "cancer = data[data.Diagnosis == 'cancer']\n",
    "print(norm.shape, early.shape, cancer.shape)"
   ]
  },
  {
   "cell_type": "code",
   "execution_count": 26,
   "metadata": {},
   "outputs": [
    {
     "data": {
      "text/plain": [
       "Index(['LOC643837', 'LOC100130417', 'SAMD11', 'NOC2L', 'KLHL17', 'PLEKHN1',\n",
       "       'C1orf170', 'HES4', 'ISG15', 'AGRN',\n",
       "       ...\n",
       "       'CLIC2', 'RPS4Y1', 'ZFY', 'PRKY', 'USP9Y', 'DDX3Y', 'CD24', 'CYorf15B',\n",
       "       'KDM5D', 'EIF1AY'],\n",
       "      dtype='object', length=15748)"
      ]
     },
     "execution_count": 26,
     "metadata": {},
     "output_type": "execute_result"
    }
   ],
   "source": [
    "features = data.columns.drop(['Patient_id', 'Diagnosis'])\n",
    "features"
   ]
  },
  {
   "cell_type": "code",
   "execution_count": 48,
   "metadata": {},
   "outputs": [
    {
     "name": "stdout",
     "output_type": "stream",
     "text": [
      "Количество статистически значимых отличий normal - early neoplasia:  1575\n",
      "Количество статистически значимых отличий early neoplasia - cancer:  3490\n"
     ]
    }
   ],
   "source": [
    "norm_early_p_values = []\n",
    "early_cancer_p_values = []\n",
    "for feature in features:\n",
    "    norm_early_p_values.append(stats.ttest_ind(norm[feature], early[feature], equal_var = False)[1])\n",
    "    early_cancer_p_values.append(stats.ttest_ind(early[feature], cancer[feature], equal_var = False)[1])\n",
    "norm_early_p_values = np.array(norm_early_p_values)\n",
    "early_cancer_p_values = np.array(early_cancer_p_values)"
   ]
  },
  {
   "cell_type": "code",
   "execution_count": 50,
   "metadata": {},
   "outputs": [
    {
     "name": "stdout",
     "output_type": "stream",
     "text": [
      "Количество статистически значимых отличий normal - early neoplasia:  1575\n",
      "Количество статистически значимых отличий early neoplasia - cancer:  3490\n"
     ]
    }
   ],
   "source": [
    "print('Количество статистически значимых отличий normal - early neoplasia: ', np.sum(norm_early_p_values < 0.05))\n",
    "print('Количество статистически значимых отличий early neoplasia - cancer: ', np.sum(early_cancer_p_values < 0.05))"
   ]
  },
  {
   "cell_type": "code",
   "execution_count": 51,
   "metadata": {},
   "outputs": [],
   "source": [
    "def write_answer(num, string):\n",
    "    with open(string, \"w\") as fout:\n",
    "        fout.write(str(num))"
   ]
  },
  {
   "cell_type": "code",
   "execution_count": 52,
   "metadata": {},
   "outputs": [],
   "source": [
    "write_answer(num = np.sum(norm_early_p_values < 0.05), string = 'answer_1.1')\n",
    "write_answer(num = np.sum(early_cancer_p_values < 0.05), string = 'answer_1.2')"
   ]
  },
  {
   "cell_type": "markdown",
   "metadata": {},
   "source": [
    "## Часть 2: поправка методом Холма"
   ]
  },
  {
   "cell_type": "code",
   "execution_count": 54,
   "metadata": {},
   "outputs": [],
   "source": [
    "import statsmodels.stats.multitest as smm"
   ]
  },
  {
   "cell_type": "markdown",
   "metadata": {},
   "source": [
    "В этой части задания нужно будет применить поправку Холма для получившихся двух наборов достигаемых уровней значимости из предыдущей части. Обратите внимание, что поскольку вы будете делать поправку для каждого из двух наборов p-value отдельно, то проблема, связанная с множественной проверкой останется.\n",
    "\n",
    "Для того, чтобы ее устранить, достаточно воспользоваться поправкой Бонферрони, то есть использовать уровень значимости 0.05 / 2 вместо 0.05 для дальнейшего уточнения значений p-value c помощью метода Холма.\n",
    "\n",
    "В качестве ответа к этому заданию требуется ввести количество значимых отличий в каждой группе после того, как произведена коррекция Холма-Бонферрони. Причем это число нужно ввести с учетом практической значимости: посчитайте для каждого значимого изменения fold change и выпишите в ответ число таких значимых изменений, абсолютное значение fold change которых больше, чем 1.5.\n",
    "\n",
    "Обратите внимание, что\n",
    "\n",
    "    применять поправку на множественную проверку  нужно  ко всем  значениям достигаемых уровней значимости, а не только для тех, которые меньше значения уровня доверия.  \n",
    "    при использовании поправки на уровне значимости 0.025 меняются значения достигаемого уровня значимости, но не меняется значение уровня доверия (то есть для отбора значимых изменений скорректированные значения уровня значимости нужно сравнивать с порогом 0.025, а не 0.05)!\n"
   ]
  },
  {
   "cell_type": "code",
   "execution_count": 66,
   "metadata": {},
   "outputs": [],
   "source": [
    "reject_1, p_corrected_1, a1_1, a2_1 = smm.multipletests(norm_early_p_values, \n",
    "                                            alpha = 0.05/2., \n",
    "                                            method = 'holm') "
   ]
  },
  {
   "cell_type": "code",
   "execution_count": 76,
   "metadata": {},
   "outputs": [],
   "source": [
    "reject_2, p_corrected_2, a1_2, a2_2 = smm.multipletests(early_cancer_p_values, \n",
    "                                            alpha = 0.05/2., \n",
    "                                            method = 'holm')"
   ]
  },
  {
   "cell_type": "code",
   "execution_count": 93,
   "metadata": {},
   "outputs": [
    {
     "data": {
      "text/html": [
       "<div>\n",
       "<style scoped>\n",
       "    .dataframe tbody tr th:only-of-type {\n",
       "        vertical-align: middle;\n",
       "    }\n",
       "\n",
       "    .dataframe tbody tr th {\n",
       "        vertical-align: top;\n",
       "    }\n",
       "\n",
       "    .dataframe thead th {\n",
       "        text-align: right;\n",
       "    }\n",
       "</style>\n",
       "<table border=\"1\" class=\"dataframe\">\n",
       "  <thead>\n",
       "    <tr style=\"text-align: right;\">\n",
       "      <th></th>\n",
       "      <th>norm mean</th>\n",
       "      <th>early mean</th>\n",
       "      <th>cancer mean</th>\n",
       "      <th>p1</th>\n",
       "      <th>p2</th>\n",
       "      <th>p1 corr.</th>\n",
       "      <th>reject1</th>\n",
       "      <th>p2 corr.</th>\n",
       "      <th>reject2</th>\n",
       "    </tr>\n",
       "  </thead>\n",
       "  <tbody>\n",
       "    <tr>\n",
       "      <th>LOC643837</th>\n",
       "      <td>2.681277</td>\n",
       "      <td>2.510894</td>\n",
       "      <td>2.186060</td>\n",
       "      <td>0.690766</td>\n",
       "      <td>0.413735</td>\n",
       "      <td>1.000000</td>\n",
       "      <td>False</td>\n",
       "      <td>1.0</td>\n",
       "      <td>False</td>\n",
       "    </tr>\n",
       "    <tr>\n",
       "      <th>LOC100130417</th>\n",
       "      <td>4.368497</td>\n",
       "      <td>8.721781</td>\n",
       "      <td>8.190456</td>\n",
       "      <td>0.000032</td>\n",
       "      <td>0.653429</td>\n",
       "      <td>0.500174</td>\n",
       "      <td>False</td>\n",
       "      <td>1.0</td>\n",
       "      <td>False</td>\n",
       "    </tr>\n",
       "    <tr>\n",
       "      <th>SAMD11</th>\n",
       "      <td>15.159566</td>\n",
       "      <td>18.531325</td>\n",
       "      <td>23.692614</td>\n",
       "      <td>0.060273</td>\n",
       "      <td>0.079556</td>\n",
       "      <td>1.000000</td>\n",
       "      <td>False</td>\n",
       "      <td>1.0</td>\n",
       "      <td>False</td>\n",
       "    </tr>\n",
       "    <tr>\n",
       "      <th>NOC2L</th>\n",
       "      <td>15.374351</td>\n",
       "      <td>15.071854</td>\n",
       "      <td>16.468034</td>\n",
       "      <td>0.826429</td>\n",
       "      <td>0.287581</td>\n",
       "      <td>1.000000</td>\n",
       "      <td>False</td>\n",
       "      <td>1.0</td>\n",
       "      <td>False</td>\n",
       "    </tr>\n",
       "    <tr>\n",
       "      <th>KLHL17</th>\n",
       "      <td>21.459886</td>\n",
       "      <td>24.152469</td>\n",
       "      <td>25.035813</td>\n",
       "      <td>0.049876</td>\n",
       "      <td>0.463292</td>\n",
       "      <td>1.000000</td>\n",
       "      <td>False</td>\n",
       "      <td>1.0</td>\n",
       "      <td>False</td>\n",
       "    </tr>\n",
       "  </tbody>\n",
       "</table>\n",
       "</div>"
      ],
      "text/plain": [
       "              norm mean  early mean  cancer mean        p1        p2  \\\n",
       "LOC643837      2.681277    2.510894     2.186060  0.690766  0.413735   \n",
       "LOC100130417   4.368497    8.721781     8.190456  0.000032  0.653429   \n",
       "SAMD11        15.159566   18.531325    23.692614  0.060273  0.079556   \n",
       "NOC2L         15.374351   15.071854    16.468034  0.826429  0.287581   \n",
       "KLHL17        21.459886   24.152469    25.035813  0.049876  0.463292   \n",
       "\n",
       "              p1 corr.  reject1  p2 corr.  reject2  \n",
       "LOC643837     1.000000    False       1.0    False  \n",
       "LOC100130417  0.500174    False       1.0    False  \n",
       "SAMD11        1.000000    False       1.0    False  \n",
       "NOC2L         1.000000    False       1.0    False  \n",
       "KLHL17        1.000000    False       1.0    False  "
      ]
     },
     "execution_count": 93,
     "metadata": {},
     "output_type": "execute_result"
    }
   ],
   "source": [
    "# create DataFrame with all results: p1 - norm vs early mean diff p_value, p2 - early vs cancer\n",
    "table = pd.DataFrame()\n",
    "table['norm mean'] = norm.mean()\n",
    "table['early mean'] = early.mean()\n",
    "table['cancer mean'] = cancer.mean()\n",
    "table['p1'] = norm_early_p_values\n",
    "table['p2'] = early_cancer_p_values\n",
    "table['p1 corr. Holm'] = p_corrected_1\n",
    "table['reject1 Holm'] = reject_1\n",
    "table['p2 corr. Holm'] = p_corrected_2\n",
    "table['reject2 Holm'] = reject_2\n",
    "table.head()"
   ]
  },
  {
   "cell_type": "code",
   "execution_count": 106,
   "metadata": {},
   "outputs": [],
   "source": [
    "maximum_1 = np.maximum(table['norm mean'], table['early mean'])\n",
    "minimum_1 = np.minimum(table['norm mean'], table['early mean'])\n",
    "fold_change_1 = maximum_1 / minimum_1\n",
    "maximum_2 = np.maximum(table['cancer mean'], table['early mean'])\n",
    "minimum_2 = np.minimum(table['cancer mean'], table['early mean'])\n",
    "fold_change_2 = maximum_2 / minimum_2"
   ]
  },
  {
   "cell_type": "code",
   "execution_count": 107,
   "metadata": {},
   "outputs": [
    {
     "data": {
      "text/html": [
       "<div>\n",
       "<style scoped>\n",
       "    .dataframe tbody tr th:only-of-type {\n",
       "        vertical-align: middle;\n",
       "    }\n",
       "\n",
       "    .dataframe tbody tr th {\n",
       "        vertical-align: top;\n",
       "    }\n",
       "\n",
       "    .dataframe thead th {\n",
       "        text-align: right;\n",
       "    }\n",
       "</style>\n",
       "<table border=\"1\" class=\"dataframe\">\n",
       "  <thead>\n",
       "    <tr style=\"text-align: right;\">\n",
       "      <th></th>\n",
       "      <th>norm mean</th>\n",
       "      <th>early mean</th>\n",
       "      <th>cancer mean</th>\n",
       "      <th>p1</th>\n",
       "      <th>p2</th>\n",
       "      <th>p1 corr.</th>\n",
       "      <th>reject1</th>\n",
       "      <th>p2 corr.</th>\n",
       "      <th>reject2</th>\n",
       "      <th>Fold Change norm-early</th>\n",
       "      <th>Fold Change early-cancer</th>\n",
       "    </tr>\n",
       "  </thead>\n",
       "  <tbody>\n",
       "    <tr>\n",
       "      <th>LOC643837</th>\n",
       "      <td>2.681277</td>\n",
       "      <td>2.510894</td>\n",
       "      <td>2.186060</td>\n",
       "      <td>0.690766</td>\n",
       "      <td>0.413735</td>\n",
       "      <td>1.000000</td>\n",
       "      <td>False</td>\n",
       "      <td>1.0</td>\n",
       "      <td>False</td>\n",
       "      <td>1.067858</td>\n",
       "      <td>1.148593</td>\n",
       "    </tr>\n",
       "    <tr>\n",
       "      <th>LOC100130417</th>\n",
       "      <td>4.368497</td>\n",
       "      <td>8.721781</td>\n",
       "      <td>8.190456</td>\n",
       "      <td>0.000032</td>\n",
       "      <td>0.653429</td>\n",
       "      <td>0.500174</td>\n",
       "      <td>False</td>\n",
       "      <td>1.0</td>\n",
       "      <td>False</td>\n",
       "      <td>1.996517</td>\n",
       "      <td>1.064871</td>\n",
       "    </tr>\n",
       "    <tr>\n",
       "      <th>SAMD11</th>\n",
       "      <td>15.159566</td>\n",
       "      <td>18.531325</td>\n",
       "      <td>23.692614</td>\n",
       "      <td>0.060273</td>\n",
       "      <td>0.079556</td>\n",
       "      <td>1.000000</td>\n",
       "      <td>False</td>\n",
       "      <td>1.0</td>\n",
       "      <td>False</td>\n",
       "      <td>1.222418</td>\n",
       "      <td>1.278517</td>\n",
       "    </tr>\n",
       "    <tr>\n",
       "      <th>NOC2L</th>\n",
       "      <td>15.374351</td>\n",
       "      <td>15.071854</td>\n",
       "      <td>16.468034</td>\n",
       "      <td>0.826429</td>\n",
       "      <td>0.287581</td>\n",
       "      <td>1.000000</td>\n",
       "      <td>False</td>\n",
       "      <td>1.0</td>\n",
       "      <td>False</td>\n",
       "      <td>1.020070</td>\n",
       "      <td>1.092635</td>\n",
       "    </tr>\n",
       "    <tr>\n",
       "      <th>KLHL17</th>\n",
       "      <td>21.459886</td>\n",
       "      <td>24.152469</td>\n",
       "      <td>25.035813</td>\n",
       "      <td>0.049876</td>\n",
       "      <td>0.463292</td>\n",
       "      <td>1.000000</td>\n",
       "      <td>False</td>\n",
       "      <td>1.0</td>\n",
       "      <td>False</td>\n",
       "      <td>1.125471</td>\n",
       "      <td>1.036574</td>\n",
       "    </tr>\n",
       "  </tbody>\n",
       "</table>\n",
       "</div>"
      ],
      "text/plain": [
       "              norm mean  early mean  cancer mean        p1        p2  \\\n",
       "LOC643837      2.681277    2.510894     2.186060  0.690766  0.413735   \n",
       "LOC100130417   4.368497    8.721781     8.190456  0.000032  0.653429   \n",
       "SAMD11        15.159566   18.531325    23.692614  0.060273  0.079556   \n",
       "NOC2L         15.374351   15.071854    16.468034  0.826429  0.287581   \n",
       "KLHL17        21.459886   24.152469    25.035813  0.049876  0.463292   \n",
       "\n",
       "              p1 corr.  reject1  p2 corr.  reject2  Fold Change norm-early  \\\n",
       "LOC643837     1.000000    False       1.0    False                1.067858   \n",
       "LOC100130417  0.500174    False       1.0    False                1.996517   \n",
       "SAMD11        1.000000    False       1.0    False                1.222418   \n",
       "NOC2L         1.000000    False       1.0    False                1.020070   \n",
       "KLHL17        1.000000    False       1.0    False                1.125471   \n",
       "\n",
       "              Fold Change early-cancer  \n",
       "LOC643837                     1.148593  \n",
       "LOC100130417                  1.064871  \n",
       "SAMD11                        1.278517  \n",
       "NOC2L                         1.092635  \n",
       "KLHL17                        1.036574  "
      ]
     },
     "execution_count": 107,
     "metadata": {},
     "output_type": "execute_result"
    }
   ],
   "source": [
    "table['Fold Change norm-early'] = fold_change_1\n",
    "table['Fold Change early-cancer'] = fold_change_2\n",
    "table.head()"
   ]
  },
  {
   "cell_type": "code",
   "execution_count": 114,
   "metadata": {},
   "outputs": [],
   "source": [
    "ans_2_1 = table.loc[(table['Fold Change norm-early'] > 1.5) & (table['p1 corr. Holm'] < 0.025), 'reject1 Holm'].sum() \n",
    "ans_2_2 = table.loc[(table['Fold Change early-cancer'] > 1.5) & (table['p2 corr. Holm'] < 0.025), 'reject2 Holm'].sum()"
   ]
  },
  {
   "cell_type": "code",
   "execution_count": 116,
   "metadata": {},
   "outputs": [],
   "source": [
    "write_answer(num = ans_2_1, string = 'answer_2.1')\n",
    "write_answer(num = ans_2_2, string = 'answer_2.2')"
   ]
  },
  {
   "cell_type": "markdown",
   "metadata": {},
   "source": [
    "## Часть 3: поправка методом Бенджамини-Хохберга"
   ]
  },
  {
   "cell_type": "markdown",
   "metadata": {},
   "source": [
    "Данная часть задания аналогична второй части за исключением того, что нужно будет использовать метод Бенджамини-Хохберга.\n",
    "\n",
    " Обратите внимание, что методы коррекции, которые контролируют FDR, допускает больше ошибок первого рода и имеют большую мощность, чем методы, контролирующие FWER. Большая мощность означает, что эти методы будут совершать меньше ошибок второго рода (то есть будут лучше улавливать отклонения от $H_0$, когда они есть, и будут чаще отклонять $H_0$, когда отличий нет).\n",
    "\n",
    "В качестве ответа к этому заданию требуется  ввести количество значимых отличий в каждой группе после того, как произведена коррекция Бенджамини-Хохберга, причем так же, как и во второй части, считать только такие отличия, у которых abs(fold change) > 1.5. "
   ]
  },
  {
   "cell_type": "code",
   "execution_count": 117,
   "metadata": {},
   "outputs": [],
   "source": [
    "reject_3, p_corrected_3, a1_3, a2_3 = smm.multipletests(norm_early_p_values, \n",
    "                                            alpha = 0.05/2., \n",
    "                                            method = 'fdr_bh')\n",
    "reject_4, p_corrected_4, a1_4, a2_4 = smm.multipletests(early_cancer_p_values, \n",
    "                                            alpha = 0.05/2., \n",
    "                                            method = 'fdr_bh') "
   ]
  },
  {
   "cell_type": "code",
   "execution_count": 119,
   "metadata": {},
   "outputs": [
    {
     "data": {
      "text/html": [
       "<div>\n",
       "<style scoped>\n",
       "    .dataframe tbody tr th:only-of-type {\n",
       "        vertical-align: middle;\n",
       "    }\n",
       "\n",
       "    .dataframe tbody tr th {\n",
       "        vertical-align: top;\n",
       "    }\n",
       "\n",
       "    .dataframe thead th {\n",
       "        text-align: right;\n",
       "    }\n",
       "</style>\n",
       "<table border=\"1\" class=\"dataframe\">\n",
       "  <thead>\n",
       "    <tr style=\"text-align: right;\">\n",
       "      <th></th>\n",
       "      <th>norm mean</th>\n",
       "      <th>early mean</th>\n",
       "      <th>cancer mean</th>\n",
       "      <th>p1</th>\n",
       "      <th>p2</th>\n",
       "      <th>p1 corr.</th>\n",
       "      <th>reject1</th>\n",
       "      <th>p2 corr.</th>\n",
       "      <th>reject2</th>\n",
       "      <th>Fold Change norm-early</th>\n",
       "      <th>Fold Change early-cancer</th>\n",
       "      <th>p1 corr. Bendj-Hoch</th>\n",
       "      <th>reject1 Bendj-Hoch</th>\n",
       "      <th>p2 corr. Bendj-Hoch</th>\n",
       "      <th>reject2 Bendj-Hoch</th>\n",
       "    </tr>\n",
       "  </thead>\n",
       "  <tbody>\n",
       "    <tr>\n",
       "      <th>LOC643837</th>\n",
       "      <td>2.681277</td>\n",
       "      <td>2.510894</td>\n",
       "      <td>2.186060</td>\n",
       "      <td>0.690766</td>\n",
       "      <td>0.413735</td>\n",
       "      <td>1.000000</td>\n",
       "      <td>False</td>\n",
       "      <td>1.0</td>\n",
       "      <td>False</td>\n",
       "      <td>1.067858</td>\n",
       "      <td>1.148593</td>\n",
       "      <td>0.966511</td>\n",
       "      <td>False</td>\n",
       "      <td>0.675195</td>\n",
       "      <td>False</td>\n",
       "    </tr>\n",
       "    <tr>\n",
       "      <th>LOC100130417</th>\n",
       "      <td>4.368497</td>\n",
       "      <td>8.721781</td>\n",
       "      <td>8.190456</td>\n",
       "      <td>0.000032</td>\n",
       "      <td>0.653429</td>\n",
       "      <td>0.500174</td>\n",
       "      <td>False</td>\n",
       "      <td>1.0</td>\n",
       "      <td>False</td>\n",
       "      <td>1.996517</td>\n",
       "      <td>1.064871</td>\n",
       "      <td>0.035698</td>\n",
       "      <td>False</td>\n",
       "      <td>0.836406</td>\n",
       "      <td>False</td>\n",
       "    </tr>\n",
       "    <tr>\n",
       "      <th>SAMD11</th>\n",
       "      <td>15.159566</td>\n",
       "      <td>18.531325</td>\n",
       "      <td>23.692614</td>\n",
       "      <td>0.060273</td>\n",
       "      <td>0.079556</td>\n",
       "      <td>1.000000</td>\n",
       "      <td>False</td>\n",
       "      <td>1.0</td>\n",
       "      <td>False</td>\n",
       "      <td>1.222418</td>\n",
       "      <td>1.278517</td>\n",
       "      <td>0.536103</td>\n",
       "      <td>False</td>\n",
       "      <td>0.288873</td>\n",
       "      <td>False</td>\n",
       "    </tr>\n",
       "    <tr>\n",
       "      <th>NOC2L</th>\n",
       "      <td>15.374351</td>\n",
       "      <td>15.071854</td>\n",
       "      <td>16.468034</td>\n",
       "      <td>0.826429</td>\n",
       "      <td>0.287581</td>\n",
       "      <td>1.000000</td>\n",
       "      <td>False</td>\n",
       "      <td>1.0</td>\n",
       "      <td>False</td>\n",
       "      <td>1.020070</td>\n",
       "      <td>1.092635</td>\n",
       "      <td>0.980777</td>\n",
       "      <td>False</td>\n",
       "      <td>0.563007</td>\n",
       "      <td>False</td>\n",
       "    </tr>\n",
       "    <tr>\n",
       "      <th>KLHL17</th>\n",
       "      <td>21.459886</td>\n",
       "      <td>24.152469</td>\n",
       "      <td>25.035813</td>\n",
       "      <td>0.049876</td>\n",
       "      <td>0.463292</td>\n",
       "      <td>1.000000</td>\n",
       "      <td>False</td>\n",
       "      <td>1.0</td>\n",
       "      <td>False</td>\n",
       "      <td>1.125471</td>\n",
       "      <td>1.036574</td>\n",
       "      <td>0.499016</td>\n",
       "      <td>False</td>\n",
       "      <td>0.712214</td>\n",
       "      <td>False</td>\n",
       "    </tr>\n",
       "  </tbody>\n",
       "</table>\n",
       "</div>"
      ],
      "text/plain": [
       "              norm mean  early mean  cancer mean        p1        p2  \\\n",
       "LOC643837      2.681277    2.510894     2.186060  0.690766  0.413735   \n",
       "LOC100130417   4.368497    8.721781     8.190456  0.000032  0.653429   \n",
       "SAMD11        15.159566   18.531325    23.692614  0.060273  0.079556   \n",
       "NOC2L         15.374351   15.071854    16.468034  0.826429  0.287581   \n",
       "KLHL17        21.459886   24.152469    25.035813  0.049876  0.463292   \n",
       "\n",
       "              p1 corr.  reject1  p2 corr.  reject2  Fold Change norm-early  \\\n",
       "LOC643837     1.000000    False       1.0    False                1.067858   \n",
       "LOC100130417  0.500174    False       1.0    False                1.996517   \n",
       "SAMD11        1.000000    False       1.0    False                1.222418   \n",
       "NOC2L         1.000000    False       1.0    False                1.020070   \n",
       "KLHL17        1.000000    False       1.0    False                1.125471   \n",
       "\n",
       "              Fold Change early-cancer  p1 corr. Bendj-Hoch  \\\n",
       "LOC643837                     1.148593             0.966511   \n",
       "LOC100130417                  1.064871             0.035698   \n",
       "SAMD11                        1.278517             0.536103   \n",
       "NOC2L                         1.092635             0.980777   \n",
       "KLHL17                        1.036574             0.499016   \n",
       "\n",
       "              reject1 Bendj-Hoch  p2 corr. Bendj-Hoch  reject2 Bendj-Hoch  \n",
       "LOC643837                  False             0.675195               False  \n",
       "LOC100130417               False             0.836406               False  \n",
       "SAMD11                     False             0.288873               False  \n",
       "NOC2L                      False             0.563007               False  \n",
       "KLHL17                     False             0.712214               False  "
      ]
     },
     "execution_count": 119,
     "metadata": {},
     "output_type": "execute_result"
    }
   ],
   "source": [
    "table['p1 corr. Bendj-Hoch'] = p_corrected_3\n",
    "table['reject1 Bendj-Hoch'] = reject_3\n",
    "table['p2 corr. Bendj-Hoch'] = p_corrected_4\n",
    "table['reject2 Bendj-Hoch'] = reject_4\n",
    "table.head()"
   ]
  },
  {
   "cell_type": "code",
   "execution_count": 120,
   "metadata": {},
   "outputs": [],
   "source": [
    "ans_3_1 = table.loc[(table['Fold Change norm-early'] > 1.5) & (table['p1 corr. Bendj-Hoch'] < 0.025),\n",
    "                    'reject1 Bendj-Hoch'].sum() \n",
    "ans_3_2 = table.loc[(table['Fold Change early-cancer'] > 1.5) & (table['p2 corr. Bendj-Hoch'] < 0.025),\n",
    "                    'reject2 Bendj-Hoch'].sum()"
   ]
  },
  {
   "cell_type": "code",
   "execution_count": 124,
   "metadata": {},
   "outputs": [],
   "source": [
    "write_answer(num = ans_3_1, string = 'answer_3.1')\n",
    "write_answer(num = ans_3_2, string = 'answer_3.2')"
   ]
  },
  {
   "cell_type": "code",
   "execution_count": null,
   "metadata": {},
   "outputs": [],
   "source": []
  }
 ],
 "metadata": {
  "kernelspec": {
   "display_name": "Python 3",
   "language": "python",
   "name": "python3"
  },
  "language_info": {
   "codemirror_mode": {
    "name": "ipython",
    "version": 3
   },
   "file_extension": ".py",
   "mimetype": "text/x-python",
   "name": "python",
   "nbconvert_exporter": "python",
   "pygments_lexer": "ipython3",
   "version": "3.9.0"
  }
 },
 "nbformat": 4,
 "nbformat_minor": 4
}
