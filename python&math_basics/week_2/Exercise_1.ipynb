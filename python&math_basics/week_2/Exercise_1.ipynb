{
 "cells": [
  {
   "cell_type": "code",
   "execution_count": 54,
   "metadata": {},
   "outputs": [],
   "source": [
    "import scipy\n",
    "import numpy as np\n",
    "import matplotlib as plt\n",
    "import pandas as pd\n",
    "import re\n",
    "import scipy.spatial.distance as ds"
   ]
  },
  {
   "cell_type": "code",
   "execution_count": null,
   "metadata": {},
   "outputs": [],
   "source": [
    "def minimum(lst):\n",
    "    minim = lst[0]\n",
    "    "
   ]
  },
  {
   "cell_type": "code",
   "execution_count": 72,
   "metadata": {},
   "outputs": [
    {
     "name": "stdout",
     "output_type": "stream",
     "text": [
      "Number of lines: \t 22\n",
      "Number of words: \t 254\n",
      "['6', '4']\n"
     ]
    }
   ],
   "source": [
    "dictionary = {}\n",
    "n = 0 #количество строк \n",
    "d = 0 #количество различных слов\n",
    "matrix = np.zeros((22, 254))\n",
    "i = 0\n",
    "j = 0\n",
    "with open('sentenses.txt', 'r') as file:\n",
    "    for line in file:\n",
    "        n += 1\n",
    "        line = re.split('[^a-z]', line.strip().lower())\n",
    "        while '' in line:\n",
    "            line.remove('')\n",
    "# если слова нет в словаре, то записываю слово в словарь и сразу добавляю к матрице 1 на этом месте\n",
    "# если же слово есть в словаре, то нахожу его номер, и добавляю 1 к матрице \n",
    "        for x in line:\n",
    "            if x not in dictionary:\n",
    "                d += 1\n",
    "                dictionary[x] = d-1\n",
    "                j = d-1\n",
    "                matrix[i, j] += 1\n",
    "            elif x in dictionary:\n",
    "                j = dictionary[x]\n",
    "                matrix[i,j] += 1\n",
    "        i += 1   #перехожу на новую строку матрицы\n",
    "#        print(line)\n",
    "#print(dictionary)\n",
    "print('Number of lines: \\t', n)\n",
    "print('Number of words: \\t', d)\n",
    "#print(matrix)\n",
    "#print(matrix.shape[0])\n",
    "lst = []\n",
    "nummer = []\n",
    "for i in range(matrix.shape[0]):\n",
    "    cosine = ds.cosine(matrix[i, :], matrix[0, :])\n",
    "    lst.append(cosine)\n",
    "sort_lst = sorted(lst)\n",
    "for i in range(1,3):\n",
    "    for j in range(len(lst)):\n",
    "        if sort_lst[i] == lst[j]:\n",
    "            nummer.append(str(j))\n",
    "print(nummer)\n",
    "file_obj = open('submission-1.txt', 'w')\n",
    "string = ' '.join(nummer)\n",
    "file_obj.write(string)\n",
    "file_obj.close()\n"
   ]
  },
  {
   "cell_type": "code",
   "execution_count": 73,
   "metadata": {},
   "outputs": [
    {
     "name": "stdout",
     "output_type": "stream",
     "text": [
      "6 4"
     ]
    }
   ],
   "source": [
    "!cat submission-1.txt\n"
   ]
  },
  {
   "cell_type": "code",
   "execution_count": null,
   "metadata": {},
   "outputs": [],
   "source": []
  }
 ],
 "metadata": {
  "kernelspec": {
   "display_name": "Python 3",
   "language": "python",
   "name": "python3"
  },
  "language_info": {
   "codemirror_mode": {
    "name": "ipython",
    "version": 3
   },
   "file_extension": ".py",
   "mimetype": "text/x-python",
   "name": "python",
   "nbconvert_exporter": "python",
   "pygments_lexer": "ipython3",
   "version": "3.9.0"
  }
 },
 "nbformat": 4,
 "nbformat_minor": 2
}
