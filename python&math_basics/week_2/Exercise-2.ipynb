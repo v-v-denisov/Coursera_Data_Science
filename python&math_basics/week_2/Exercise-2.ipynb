{
 "cells": [
  {
   "cell_type": "code",
   "execution_count": 3,
   "metadata": {},
   "outputs": [],
   "source": [
    "import numpy as np\n",
    "import matplotlib as plt\n",
    "import scipy"
   ]
  },
  {
   "cell_type": "code",
   "execution_count": 4,
   "metadata": {},
   "outputs": [],
   "source": [
    "def f(x):\n",
    "    return np.sin(x/5.0)*np.exp(x/10.0) + 5 * np.exp(-x/2.0)"
   ]
  },
  {
   "cell_type": "code",
   "execution_count": 34,
   "metadata": {},
   "outputs": [],
   "source": [
    "a = np.array([[1.0, 1.0, 1.0, 1.0], [1.0, 4.0, 16.0, 64.0], [1.0, 10.0, 100.0, 1000.0], [1.0, 15.0, 225.0, 15.0**3]])\n",
    "b = np.array([f(1), f(4), f(10), f(15)])\n",
    "w = np.linalg.solve(a,b)"
   ]
  },
  {
   "cell_type": "code",
   "execution_count": 35,
   "metadata": {},
   "outputs": [
    {
     "name": "stdout",
     "output_type": "stream",
     "text": [
      "Матрица A:\n",
      " [[1.000e+00 1.000e+00 1.000e+00 1.000e+00]\n",
      " [1.000e+00 4.000e+00 1.600e+01 6.400e+01]\n",
      " [1.000e+00 1.000e+01 1.000e+02 1.000e+03]\n",
      " [1.000e+00 1.500e+01 2.250e+02 3.375e+03]]\n",
      "Вектор b:\n",
      " [3.25221687 1.74684595 2.50541641 0.63522142]\n",
      "Решение системы:\n",
      " [ 4.36264154 -1.29552587  0.19333685 -0.00823565]\n"
     ]
    }
   ],
   "source": [
    "print(\"Матрица A:\\n\", a)\n",
    "print(\"Вектор b:\\n\", b)\n",
    "print(\"Решение системы:\\n\", w)\n"
   ]
  },
  {
   "cell_type": "code",
   "execution_count": 36,
   "metadata": {},
   "outputs": [
    {
     "name": "stdout",
     "output_type": "stream",
     "text": [
      "[3.25221687 1.74684595 2.50541641 0.63522142]\n"
     ]
    }
   ],
   "source": [
    "print(a.dot(w))"
   ]
  },
  {
   "cell_type": "code",
   "execution_count": 43,
   "metadata": {},
   "outputs": [
    {
     "name": "stdout",
     "output_type": "stream",
     "text": [
      "4.362641535118072 -1.2955258656948434 0.1933368470215116 -0.008235651173320554 "
     ]
    }
   ],
   "source": [
    "file_obj = open('submission-2.txt', 'w')\n",
    "string = ''\n",
    "for i in range(len(w)):\n",
    "    string = string + str(w[i])+ ' '\n",
    "\n",
    "file_obj.write(string)\n",
    "file_obj.close()\n",
    "!cat submission-2.txt"
   ]
  },
  {
   "cell_type": "code",
   "execution_count": null,
   "metadata": {},
   "outputs": [],
   "source": []
  }
 ],
 "metadata": {
  "kernelspec": {
   "display_name": "Python 3",
   "language": "python",
   "name": "python3"
  },
  "language_info": {
   "codemirror_mode": {
    "name": "ipython",
    "version": 3
   },
   "file_extension": ".py",
   "mimetype": "text/x-python",
   "name": "python",
   "nbconvert_exporter": "python",
   "pygments_lexer": "ipython3",
   "version": "3.9.0"
  }
 },
 "nbformat": 4,
 "nbformat_minor": 2
}
