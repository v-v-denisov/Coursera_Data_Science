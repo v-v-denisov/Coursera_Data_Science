{
 "cells": [
  {
   "cell_type": "markdown",
   "metadata": {},
   "source": [
    "# Programming Assignment: \n",
    "## Готовим LDA по рецептам"
   ]
  },
  {
   "cell_type": "markdown",
   "metadata": {},
   "source": [
    "Как вы уже знаете, в тематическом моделировании делается предположение о том, что для определения тематики порядок слов в документе не важен; об этом гласит гипотеза «мешка слов». Сегодня мы будем работать с несколько нестандартной для тематического моделирования коллекцией, которую можно назвать «мешком ингредиентов», потому что на состоит из рецептов блюд разных кухонь. Тематические модели ищут слова, которые часто вместе встречаются в документах, и составляют из них темы. Мы попробуем применить эту идею к рецептам и найти кулинарные «темы». Эта коллекция хороша тем, что не требует предобработки. Кроме того, эта задача достаточно наглядно иллюстрирует принцип работы тематических моделей.\n",
    "\n",
    "Для выполнения заданий, помимо часто используемых в курсе библиотек, потребуются модули *json* и *gensim*. Первый входит в дистрибутив Anaconda, второй можно поставить командой \n",
    "\n",
    "*pip install gensim*\n",
    "\n",
    "Построение модели занимает некоторое время. На ноутбуке с процессором Intel Core i7 и тактовой частотой 2400 МГц на построение одной модели уходит менее 10 минут."
   ]
  },
  {
   "cell_type": "markdown",
   "metadata": {},
   "source": [
    "### Загрузка данных"
   ]
  },
  {
   "cell_type": "markdown",
   "metadata": {},
   "source": [
    "Коллекция дана в json-формате: для каждого рецепта известны его id, кухня (cuisine) и список ингредиентов, в него входящих. Загрузить данные можно с помощью модуля json (он входит в дистрибутив Anaconda):"
   ]
  },
  {
   "cell_type": "code",
   "execution_count": 1,
   "metadata": {},
   "outputs": [],
   "source": [
    "import json"
   ]
  },
  {
   "cell_type": "code",
   "execution_count": 2,
   "metadata": {},
   "outputs": [],
   "source": [
    "with open(\"recipes.json\") as f:\n",
    "    recipes = json.load(f)"
   ]
  },
  {
   "cell_type": "code",
   "execution_count": 3,
   "metadata": {},
   "outputs": [
    {
     "name": "stdout",
     "output_type": "stream",
     "text": [
      "{'id': 10259, 'cuisine': 'greek', 'ingredients': ['romaine lettuce', 'black olives', 'grape tomatoes', 'garlic', 'pepper', 'purple onion', 'seasoning', 'garbanzo beans', 'feta cheese crumbles']}\n"
     ]
    }
   ],
   "source": [
    "print(recipes[0])"
   ]
  },
  {
   "cell_type": "markdown",
   "metadata": {},
   "source": [
    "### Составление корпуса"
   ]
  },
  {
   "cell_type": "code",
   "execution_count": 4,
   "metadata": {},
   "outputs": [],
   "source": [
    "from gensim import corpora, models\n",
    "import numpy as np"
   ]
  },
  {
   "cell_type": "markdown",
   "metadata": {},
   "source": [
    "Наша коллекция небольшая, и целиком помещается в оперативную память. Gensim может работать с такими данными и не требует их сохранения на диск в специальном формате. Для этого коллекция должна быть представлена в виде списка списков, каждый внутренний список соответствует отдельному документу и состоит из его слов. Пример коллекции из двух документов: \n",
    "\n",
    "[[\"hello\", \"world\"], [\"programming\", \"in\", \"python\"]]\n",
    "\n",
    "Преобразуем наши данные в такой формат, а затем создадим объекты corpus и dictionary, с которыми будет работать модель."
   ]
  },
  {
   "cell_type": "code",
   "execution_count": 5,
   "metadata": {},
   "outputs": [],
   "source": [
    "texts = [recipe[\"ingredients\"] for recipe in recipes]\n",
    "dictionary = corpora.Dictionary(texts)   # составляем словарь\n",
    "corpus = [dictionary.doc2bow(text) for text in texts]  # составляем корпус документов"
   ]
  },
  {
   "cell_type": "code",
   "execution_count": 6,
   "metadata": {},
   "outputs": [
    {
     "name": "stdout",
     "output_type": "stream",
     "text": [
      "['romaine lettuce', 'black olives', 'grape tomatoes', 'garlic', 'pepper', 'purple onion', 'seasoning', 'garbanzo beans', 'feta cheese crumbles']\n",
      "[(0, 1), (1, 1), (2, 1), (3, 1), (4, 1), (5, 1), (6, 1), (7, 1), (8, 1)]\n"
     ]
    }
   ],
   "source": [
    "print(texts[0])\n",
    "print(corpus[0])"
   ]
  },
  {
   "cell_type": "markdown",
   "metadata": {},
   "source": [
    "У объекта dictionary есть полезная переменная dictionary.token2id, позволяющая находить соответствие между ингредиентами и их индексами."
   ]
  },
  {
   "cell_type": "markdown",
   "metadata": {},
   "source": [
    "### Обучение модели\n",
    "Вам может понадобиться [документация](https://radimrehurek.com/gensim/models/ldamodel.html) LDA в gensim."
   ]
  },
  {
   "cell_type": "markdown",
   "metadata": {},
   "source": [
    "__Задание 1.__ Обучите модель LDA с 40 темами, установив количество проходов по коллекции 5 и оставив остальные параметры по умолчанию. \n",
    "\n",
    "\n",
    "Затем вызовите метод модели *show_topics*, указав количество тем 40 и количество токенов 10, и сохраните результат (топы ингредиентов в темах) в отдельную переменную. Если при вызове метода *show_topics* указать параметр *formatted=True*, то топы ингредиентов будет удобно выводить на печать, если *formatted=False*, будет удобно работать со списком программно. Выведите топы на печать, рассмотрите темы, а затем ответьте на вопрос:\n",
    "\n",
    "Сколько раз ингредиенты \"salt\", \"sugar\", \"water\", \"mushrooms\", \"chicken\", \"eggs\" встретились среди топов-10 всех 40 тем? При ответе __не нужно__ учитывать составные ингредиенты, например, \"hot water\".\n",
    "\n",
    "Передайте 6 чисел в функцию save_answers1 и загрузите сгенерированный файл в форму.\n",
    "\n",
    "У gensim нет возможности фиксировать случайное приближение через параметры метода, но библиотека использует numpy для инициализации матриц. Поэтому, по утверждению автора библиотеки, фиксировать случайное приближение нужно командой, которая написана в следующей ячейке. __Перед строкой кода с построением модели обязательно вставляйте указанную строку фиксации random.seed.__"
   ]
  },
  {
   "cell_type": "code",
   "execution_count": 7,
   "metadata": {},
   "outputs": [
    {
     "name": "stdout",
     "output_type": "stream",
     "text": [
      "CPU times: user 3min 27s, sys: 1.26 s, total: 3min 29s\n",
      "Wall time: 3min 46s\n"
     ]
    }
   ],
   "source": [
    "np.random.seed(76543)\n",
    "# здесь код для построения модели:\n",
    "%time ldamodel = models.ldamodel.LdaModel(corpus, num_topics=40, id2word=dictionary, passes=5)"
   ]
  },
  {
   "cell_type": "code",
   "execution_count": 9,
   "metadata": {},
   "outputs": [
    {
     "data": {
      "text/plain": [
       "[(0,\n",
       "  '0.103*\"chopped onion\" + 0.081*\"garlic cloves\" + 0.062*\"salt\" + 0.054*\"fat free less sodium chicken broth\" + 0.047*\"sliced green onions\" + 0.046*\"cooking spray\" + 0.044*\"water\" + 0.043*\"ground red pepper\" + 0.038*\"spinach\" + 0.030*\"black pepper\"'),\n",
       " (1,\n",
       "  '0.101*\"corn kernels\" + 0.086*\"diced onions\" + 0.072*\"tortillas\" + 0.066*\"vegetable stock\" + 0.050*\"chopped fresh chives\" + 0.049*\"sliced black olives\" + 0.048*\"cream cheese, soften\" + 0.043*\"lard\" + 0.034*\"jack cheese\" + 0.024*\"canned black beans\"'),\n",
       " (2,\n",
       "  '0.087*\"olive oil\" + 0.060*\"crushed red pepper\" + 0.055*\"fresh parsley\" + 0.042*\"garlic cloves\" + 0.040*\"grated parmesan cheese\" + 0.036*\"butter\" + 0.036*\"cherry tomatoes\" + 0.034*\"salt\" + 0.034*\"low salt chicken broth\" + 0.032*\"fresh rosemary\"'),\n",
       " (3,\n",
       "  '0.073*\"bacon\" + 0.070*\"salt\" + 0.061*\"red pepper flakes\" + 0.055*\"onions\" + 0.052*\"garlic\" + 0.049*\"ground black pepper\" + 0.044*\"mushrooms\" + 0.042*\"chicken thighs\" + 0.041*\"pasta\" + 0.034*\"olive oil\"'),\n",
       " (4,\n",
       "  '0.090*\"cooking spray\" + 0.068*\"salt\" + 0.060*\"powdered sugar\" + 0.059*\"large egg whites\" + 0.054*\"all-purpose flour\" + 0.051*\"sugar\" + 0.049*\"large eggs\" + 0.044*\"cream cheese\" + 0.043*\"yellow corn meal\" + 0.042*\"butter\"'),\n",
       " (5,\n",
       "  '0.093*\"large garlic cloves\" + 0.092*\"shallots\" + 0.075*\"dry white wine\" + 0.056*\"olive oil\" + 0.045*\"finely chopped onion\" + 0.034*\"unsalted butter\" + 0.033*\"salt\" + 0.032*\"white wine vinegar\" + 0.030*\"arborio rice\" + 0.027*\"saffron threads\"'),\n",
       " (6,\n",
       "  '0.079*\"fresh thyme\" + 0.078*\"dry red wine\" + 0.053*\"pork tenderloin\" + 0.047*\"reduced sodium soy sauce\" + 0.047*\"cilantro sprigs\" + 0.041*\"beef broth\" + 0.037*\"peppercorns\" + 0.032*\"cremini mushrooms\" + 0.023*\"rosemary\" + 0.023*\"daikon\"'),\n",
       " (7,\n",
       "  '0.092*\"soy sauce\" + 0.052*\"sesame oil\" + 0.044*\"scallions\" + 0.043*\"green onions\" + 0.041*\"rice vinegar\" + 0.040*\"sugar\" + 0.036*\"corn starch\" + 0.036*\"garlic\" + 0.034*\"vegetable oil\" + 0.027*\"fresh ginger\"'),\n",
       " (8,\n",
       "  '0.175*\"garlic powder\" + 0.123*\"cayenne pepper\" + 0.066*\"onion powder\" + 0.047*\"ground black pepper\" + 0.044*\"smoked paprika\" + 0.040*\"black pepper\" + 0.040*\"pinenuts\" + 0.038*\"salt\" + 0.026*\"dried oregano\" + 0.026*\"fresh spinach\"'),\n",
       " (9,\n",
       "  '0.114*\"extra-virgin olive oil\" + 0.067*\"garlic cloves\" + 0.061*\"fresh lemon juice\" + 0.056*\"salt\" + 0.053*\"olive oil\" + 0.052*\"ground black pepper\" + 0.046*\"plum tomatoes\" + 0.042*\"purple onion\" + 0.034*\"balsamic vinegar\" + 0.034*\"fresh basil\"'),\n",
       " (10,\n",
       "  '0.066*\"broccoli florets\" + 0.050*\"button mushrooms\" + 0.049*\"crème fraîche\" + 0.047*\"yellow squash\" + 0.045*\"radishes\" + 0.039*\"greek style plain yogurt\" + 0.039*\"pork sausages\" + 0.035*\"watercress\" + 0.033*\"quickcooking grits\" + 0.031*\"ripe olives\"'),\n",
       " (11,\n",
       "  '0.134*\"lime\" + 0.114*\"lime juice\" + 0.056*\"fresh cilantro\" + 0.038*\"chopped cilantro\" + 0.036*\"purple onion\" + 0.031*\"mango\" + 0.031*\"garlic\" + 0.028*\"jalapeno chilies\" + 0.028*\"lime wedges\" + 0.022*\"thai chile\"'),\n",
       " (12,\n",
       "  '0.096*\"cheese\" + 0.093*\"ricotta cheese\" + 0.088*\"orange juice\" + 0.059*\"sliced mushrooms\" + 0.058*\"baby spinach\" + 0.055*\"vegetable broth\" + 0.052*\"vegetable oil cooking spray\" + 0.037*\"frozen chopped spinach\" + 0.035*\"part-skim mozzarella cheese\" + 0.034*\"italian sausage\"'),\n",
       " (13,\n",
       "  '0.097*\"diced tomatoes\" + 0.062*\"onions\" + 0.059*\"dried oregano\" + 0.053*\"tomato sauce\" + 0.047*\"garlic\" + 0.046*\"tomato paste\" + 0.046*\"salt\" + 0.038*\"olive oil\" + 0.033*\"crushed tomatoes\" + 0.030*\"ground beef\"'),\n",
       " (14,\n",
       "  '0.122*\"tomatoes\" + 0.087*\"red wine vinegar\" + 0.086*\"salt\" + 0.070*\"cucumber\" + 0.069*\"olive oil\" + 0.052*\"pepper\" + 0.045*\"fresh oregano\" + 0.036*\"purple onion\" + 0.033*\"lemon juice\" + 0.032*\"garlic\"'),\n",
       " (15,\n",
       "  '0.203*\"lemon\" + 0.055*\"orange\" + 0.053*\"boiling water\" + 0.049*\"fine sea salt\" + 0.046*\"sugar\" + 0.044*\"cold water\" + 0.034*\"fennel seeds\" + 0.032*\"almonds\" + 0.031*\"water\" + 0.028*\"mint\"'),\n",
       " (16,\n",
       "  '0.103*\"chopped cilantro fresh\" + 0.076*\"fresh lime juice\" + 0.068*\"jalapeno chilies\" + 0.051*\"white onion\" + 0.046*\"salt\" + 0.042*\"avocado\" + 0.038*\"ground cumin\" + 0.037*\"garlic cloves\" + 0.027*\"cilantro leaves\" + 0.027*\"vegetable oil\"'),\n",
       " (17,\n",
       "  '0.100*\"ground ginger\" + 0.099*\"ground cinnamon\" + 0.081*\"raisins\" + 0.076*\"ground cloves\" + 0.070*\"white wine\" + 0.061*\"ground allspice\" + 0.055*\"fresh mushrooms\" + 0.050*\"lean ground beef\" + 0.032*\"dried rosemary\" + 0.030*\"iceberg lettuce\"'),\n",
       " (18,\n",
       "  '0.116*\"parmesan cheese\" + 0.071*\"warm water\" + 0.063*\"salt\" + 0.057*\"dried basil\" + 0.053*\"olive oil\" + 0.039*\"grits\" + 0.032*\"kale\" + 0.031*\"plain flour\" + 0.028*\"water\" + 0.027*\"dry yeast\"'),\n",
       " (19,\n",
       "  '0.124*\"unsalted butter\" + 0.097*\"all-purpose flour\" + 0.096*\"large eggs\" + 0.076*\"salt\" + 0.061*\"sugar\" + 0.040*\"whole milk\" + 0.038*\"granulated sugar\" + 0.033*\"baking powder\" + 0.026*\"large egg yolks\" + 0.026*\"buttermilk\"'),\n",
       " (20,\n",
       "  '0.118*\"flat leaf parsley\" + 0.101*\"freshly ground pepper\" + 0.055*\"extra-virgin olive oil\" + 0.054*\"garlic cloves\" + 0.044*\"large shrimp\" + 0.044*\"olive oil\" + 0.042*\"salt\" + 0.033*\"dry bread crumbs\" + 0.027*\"ground black pepper\" + 0.026*\"basil leaves\"'),\n",
       " (21,\n",
       "  '0.147*\"chicken broth\" + 0.067*\"green bell pepper\" + 0.060*\"boneless skinless chicken breast halves\" + 0.056*\"onions\" + 0.056*\"boneless skinless chicken breasts\" + 0.049*\"chicken breasts\" + 0.042*\"red bell pepper\" + 0.040*\"pepper\" + 0.040*\"butter\" + 0.036*\"salt\"'),\n",
       " (22,\n",
       "  '0.114*\"grated parmesan cheese\" + 0.063*\"olive oil\" + 0.055*\"zucchini\" + 0.045*\"salt\" + 0.042*\"garlic\" + 0.041*\"mozzarella cheese\" + 0.038*\"shredded mozzarella cheese\" + 0.037*\"eggplant\" + 0.035*\"pepper\" + 0.032*\"eggs\"'),\n",
       " (23,\n",
       "  '0.079*\"brown sugar\" + 0.051*\"water\" + 0.050*\"salt\" + 0.048*\"soy sauce\" + 0.046*\"white pepper\" + 0.044*\"oil\" + 0.040*\"sugar\" + 0.038*\"sauce\" + 0.035*\"ketchup\" + 0.034*\"garlic\"'),\n",
       " (24,\n",
       "  '0.074*\"ground cumin\" + 0.047*\"ground coriander\" + 0.047*\"salt\" + 0.039*\"curry powder\" + 0.034*\"onions\" + 0.028*\"garlic\" + 0.028*\"vegetable oil\" + 0.027*\"ground turmeric\" + 0.027*\"garlic cloves\" + 0.024*\"fresh ginger\"'),\n",
       " (25,\n",
       "  '0.090*\"hot water\" + 0.083*\"chopped garlic\" + 0.064*\"peanut oil\" + 0.059*\"rice wine\" + 0.046*\"hot red pepper flakes\" + 0.037*\"corn oil\" + 0.033*\"fontina cheese\" + 0.031*\"marsala wine\" + 0.030*\"seasoning\" + 0.030*\"garlic chili sauce\"'),\n",
       " (26,\n",
       "  '0.082*\"mirin\" + 0.072*\"chickpeas\" + 0.051*\"red pepper\" + 0.050*\"mint leaves\" + 0.049*\"chopped fresh mint\" + 0.048*\"juice\" + 0.039*\"sugar\" + 0.035*\"sake\" + 0.035*\"fresh coriander\" + 0.030*\"grated lemon zest\"'),\n",
       " (27,\n",
       "  '0.181*\"heavy cream\" + 0.102*\"cheddar cheese\" + 0.069*\"frozen peas\" + 0.066*\"grated nutmeg\" + 0.040*\"bananas\" + 0.037*\"bread\" + 0.026*\"ice\" + 0.024*\"adobo sauce\" + 0.023*\"butter\" + 0.023*\"old bay seasoning\"'),\n",
       " (28,\n",
       "  '0.116*\"oil\" + 0.087*\"salt\" + 0.053*\"cilantro leaves\" + 0.051*\"green chilies\" + 0.048*\"cumin seed\" + 0.046*\"onions\" + 0.042*\"ground turmeric\" + 0.041*\"water\" + 0.033*\"chili powder\" + 0.029*\"tomatoes\"'),\n",
       " (29,\n",
       "  '0.078*\"sour cream\" + 0.047*\"salsa\" + 0.047*\"flour tortillas\" + 0.045*\"chili powder\" + 0.042*\"corn tortillas\" + 0.041*\"shredded cheddar cheese\" + 0.040*\"black beans\" + 0.036*\"cilantro\" + 0.029*\"salt\" + 0.028*\"ground cumin\"'),\n",
       " (30,\n",
       "  '0.092*\"sugar\" + 0.080*\"whipping cream\" + 0.076*\"egg yolks\" + 0.055*\"egg whites\" + 0.050*\"vanilla extract\" + 0.050*\"butter\" + 0.043*\"half & half\" + 0.037*\"sweetened condensed milk\" + 0.034*\"water\" + 0.031*\"strawberries\"'),\n",
       " (31,\n",
       "  '0.100*\"shrimp\" + 0.062*\"medium shrimp\" + 0.044*\"long-grain rice\" + 0.043*\"vegetable oil\" + 0.037*\"green onions\" + 0.035*\"long grain white rice\" + 0.034*\"rice noodles\" + 0.034*\"hot pepper sauce\" + 0.032*\"cajun seasoning\" + 0.028*\"scallions\"'),\n",
       " (32,\n",
       "  '0.112*\"eggs\" + 0.104*\"milk\" + 0.096*\"salt\" + 0.073*\"butter\" + 0.068*\"all-purpose flour\" + 0.042*\"flour\" + 0.041*\"baking powder\" + 0.040*\"sugar\" + 0.039*\"white sugar\" + 0.023*\"water\"'),\n",
       " (33,\n",
       "  '0.062*\"rice\" + 0.054*\"coriander\" + 0.049*\"onions\" + 0.047*\"salt\" + 0.043*\"garam masala\" + 0.041*\"ginger\" + 0.040*\"tumeric\" + 0.038*\"cabbage\" + 0.035*\"garlic\" + 0.033*\"ghee\"'),\n",
       " (34,\n",
       "  '0.091*\"cinnamon sticks\" + 0.085*\"clove\" + 0.071*\"black peppercorns\" + 0.042*\"chopped tomatoes\" + 0.042*\"cream\" + 0.039*\"garlic paste\" + 0.035*\"coriander seeds\" + 0.035*\"yoghurt\" + 0.033*\"fresh dill\" + 0.028*\"onions\"'),\n",
       " (35,\n",
       "  '0.066*\"onions\" + 0.052*\"bay leaves\" + 0.050*\"celery\" + 0.049*\"salt\" + 0.047*\"carrots\" + 0.045*\"dried thyme\" + 0.045*\"bay leaf\" + 0.042*\"water\" + 0.033*\"garlic\" + 0.030*\"ground black pepper\"'),\n",
       " (36,\n",
       "  '0.117*\"salt\" + 0.097*\"pepper\" + 0.071*\"paprika\" + 0.069*\"onions\" + 0.055*\"potatoes\" + 0.044*\"butter\" + 0.039*\"garlic\" + 0.037*\"olive oil\" + 0.025*\"worcestershire sauce\" + 0.024*\"carrots\"'),\n",
       " (37,\n",
       "  '0.110*\"sea salt\" + 0.066*\"coarse salt\" + 0.057*\"crushed red pepper flakes\" + 0.050*\"extra-virgin olive oil\" + 0.045*\"celery ribs\" + 0.045*\"ground black pepper\" + 0.042*\"ground pepper\" + 0.039*\"kosher salt\" + 0.034*\"garlic cloves\" + 0.034*\"parmigiano reggiano cheese\"'),\n",
       " (38,\n",
       "  '0.117*\"fish sauce\" + 0.057*\"coconut milk\" + 0.042*\"garlic\" + 0.040*\"red chili peppers\" + 0.038*\"shallots\" + 0.035*\"lemongrass\" + 0.028*\"sugar\" + 0.026*\"vegetable oil\" + 0.025*\"boneless chicken skinless thigh\" + 0.025*\"cooking oil\"'),\n",
       " (39,\n",
       "  '0.152*\"mayonaise\" + 0.095*\"dijon mustard\" + 0.069*\"cider vinegar\" + 0.069*\"cracked black pepper\" + 0.047*\"roma tomatoes\" + 0.043*\"white rice\" + 0.043*\"lemon wedge\" + 0.036*\"romaine lettuce\" + 0.024*\"chicken wings\" + 0.024*\"green onions\"')]"
      ]
     },
     "execution_count": 9,
     "metadata": {},
     "output_type": "execute_result"
    }
   ],
   "source": [
    "topics = ldamodel.show_topics(num_topics=40, formatted=False)\n",
    "ldamodel.show_topics(num_topics=40)"
   ]
  },
  {
   "cell_type": "code",
   "execution_count": 10,
   "metadata": {},
   "outputs": [
    {
     "data": {
      "text/plain": [
       "{'salt': 23, 'sugar': 9, 'water': 8, 'mushrooms': 1, 'chicken': 0, 'eggs': 2}"
      ]
     },
     "execution_count": 10,
     "metadata": {},
     "output_type": "execute_result"
    }
   ],
   "source": [
    "words = [\"salt\", \"sugar\", \"water\", \"mushrooms\", \"chicken\", \"eggs\"]\n",
    "result = dict(zip(words, [0]*6))\n",
    "for w in words:\n",
    "    for top_list in topics:\n",
    "        for top_w in top_list[1]:\n",
    "            if w == top_w[0]:\n",
    "                result[w] += 1\n",
    "                    \n",
    "result"
   ]
  },
  {
   "cell_type": "code",
   "execution_count": 11,
   "metadata": {},
   "outputs": [],
   "source": [
    "def save_answers1(c_salt, c_sugar, c_water, c_mushrooms, c_chicken, c_eggs):\n",
    "    with open(\"cooking_LDA_pa_task1.txt\", \"w\") as fout:\n",
    "        fout.write(\" \".join([str(el) for el in [c_salt, c_sugar, c_water, c_mushrooms, c_chicken, c_eggs]]))"
   ]
  },
  {
   "cell_type": "code",
   "execution_count": 12,
   "metadata": {},
   "outputs": [
    {
     "data": {
      "text/plain": [
       "[23, 9, 8, 1, 0, 2]"
      ]
     },
     "execution_count": 12,
     "metadata": {},
     "output_type": "execute_result"
    }
   ],
   "source": [
    "numbers = [result.get(w) for w in words]\n",
    "numbers"
   ]
  },
  {
   "cell_type": "code",
   "execution_count": 13,
   "metadata": {},
   "outputs": [],
   "source": [
    "save_answers1(numbers[0], numbers[1], numbers[2], numbers[3], numbers[4], numbers[5])"
   ]
  },
  {
   "cell_type": "markdown",
   "metadata": {},
   "source": [
    "### Фильтрация словаря\n",
    "В топах тем гораздо чаще встречаются первые три рассмотренных ингредиента, чем последние три. При этом наличие в рецепте курицы, яиц и грибов яснее дает понять, что мы будем готовить, чем наличие соли, сахара и воды. Таким образом, даже в рецептах есть слова, часто встречающиеся в текстах и не несущие смысловой нагрузки, и поэтому их не желательно видеть в темах. Наиболее простой прием борьбы с такими фоновыми элементами — фильтрация словаря по частоте. Обычно словарь фильтруют с двух сторон: убирают очень редкие слова (в целях экономии памяти) и очень частые слова (в целях повышения интерпретируемости тем). Мы уберем только частые слова."
   ]
  },
  {
   "cell_type": "code",
   "execution_count": 14,
   "metadata": {},
   "outputs": [],
   "source": [
    "import copy\n",
    "dictionary2 = copy.deepcopy(dictionary)"
   ]
  },
  {
   "cell_type": "markdown",
   "metadata": {},
   "source": [
    "__Задание 2.__ У объекта dictionary2 есть переменная *dfs* — это словарь, ключами которого являются id токена, а элементами — число раз, сколько слово встретилось во всей коллекции. Сохраните в отдельный список ингредиенты, которые встретились в коллекции больше 4000 раз. Вызовите метод словаря *filter_tokens*, подав в качестве первого аргумента полученный список популярных ингредиентов. Вычислите две величины: dict_size_before и dict_size_after — размер словаря до и после фильтрации.\n",
    "\n",
    "Затем, используя новый словарь, создайте новый корпус документов, corpus2, по аналогии с тем, как это сделано в начале ноутбука. Вычислите две величины: corpus_size_before и corpus_size_after — суммарное количество ингредиентов в корпусе (для каждого документа вычислите число различных ингредиентов в нем и просуммируйте по всем документам) до и после фильтрации.\n",
    "\n",
    "Передайте величины dict_size_before, dict_size_after, corpus_size_before, corpus_size_after в функцию save_answers2 и загрузите сгенерированный файл в форму."
   ]
  },
  {
   "cell_type": "code",
   "execution_count": 21,
   "metadata": {},
   "outputs": [],
   "source": [
    "dict_size_before = len(dictionary.dfs)"
   ]
  },
  {
   "cell_type": "code",
   "execution_count": 17,
   "metadata": {},
   "outputs": [
    {
     "data": {
      "text/plain": [
       "[7380, 4438, 18048, 4784, 4385, 4847, 7457, 7972, 6434, 7971, 6236, 4632]"
      ]
     },
     "execution_count": 17,
     "metadata": {},
     "output_type": "execute_result"
    }
   ],
   "source": [
    "[dictionary2.dfs[key] for key in dictionary2.dfs.keys() if dictionary2.dfs[key] > 4000]"
   ]
  },
  {
   "cell_type": "code",
   "execution_count": 20,
   "metadata": {},
   "outputs": [
    {
     "name": "stdout",
     "output_type": "stream",
     "text": [
      "6714\n",
      "6702\n"
     ]
    }
   ],
   "source": [
    "bad_ids = [key for key in dictionary2.dfs.keys() if dictionary2.dfs[key] > 4000]\n",
    "dictionary2.filter_tokens(bad_ids)\n",
    "dict_size_after = len(dictionary2.dfs)\n",
    "print(dict_size_before)\n",
    "print(dict_size_after)"
   ]
  },
  {
   "cell_type": "code",
   "execution_count": 23,
   "metadata": {},
   "outputs": [
    {
     "name": "stdout",
     "output_type": "stream",
     "text": [
      "428249\n",
      "343665\n"
     ]
    }
   ],
   "source": [
    "corpus2 = [dictionary2.doc2bow(text) for text in texts]\n",
    "corpus_size_before = 0\n",
    "corpus_size_after = 0\n",
    "for c in corpus:\n",
    "    corpus_size_before += len(c)\n",
    "\n",
    "for c in corpus2:\n",
    "    corpus_size_after  += len(c)\n",
    "    \n",
    "print(corpus_size_before)\n",
    "print(corpus_size_after)"
   ]
  },
  {
   "cell_type": "code",
   "execution_count": 24,
   "metadata": {},
   "outputs": [],
   "source": [
    "def save_answers2(dict_size_before, dict_size_after, corpus_size_before, corpus_size_after):\n",
    "    with open(\"cooking_LDA_pa_task2.txt\", \"w\") as fout:\n",
    "        fout.write(\" \".join([str(el) for el in [dict_size_before, dict_size_after, corpus_size_before, corpus_size_after]]))"
   ]
  },
  {
   "cell_type": "code",
   "execution_count": 25,
   "metadata": {},
   "outputs": [],
   "source": [
    "save_answers2(dict_size_before, dict_size_after, corpus_size_before, corpus_size_after)"
   ]
  },
  {
   "cell_type": "markdown",
   "metadata": {},
   "source": [
    "### Сравнение когерентностей\n",
    "__Задание 3.__ Постройте еще одну модель по корпусу corpus2 и словарю dictionary2, остальные параметры оставьте такими же, как при первом построении модели. Сохраните новую модель в другую переменную (не перезаписывайте предыдущую модель). Не забудьте про фиксирование seed!\n",
    "\n",
    "Затем воспользуйтесь методом *top_topics* модели, чтобы вычислить ее когерентность. Передайте в качестве аргумента соответствующий модели корпус. Метод вернет список кортежей (топ токенов, когерентность), отсортированных по убыванию последней. Вычислите среднюю по всем темам когерентность для каждой из двух моделей и передайте в функцию save_answers3. "
   ]
  },
  {
   "cell_type": "code",
   "execution_count": 26,
   "metadata": {},
   "outputs": [
    {
     "name": "stdout",
     "output_type": "stream",
     "text": [
      "CPU times: user 2min 46s, sys: 1.29 s, total: 2min 47s\n",
      "Wall time: 3min 4s\n"
     ]
    }
   ],
   "source": [
    "np.random.seed(76543)\n",
    "# здесь код для построения модели:\n",
    "%time second_model = models.ldamodel.LdaModel(corpus2, num_topics=40, id2word=dictionary2, passes=5)"
   ]
  },
  {
   "cell_type": "code",
   "execution_count": 29,
   "metadata": {},
   "outputs": [
    {
     "name": "stdout",
     "output_type": "stream",
     "text": [
      "[([(0.07754081, 'sour cream'), (0.047292773, 'salsa'), (0.046686985, 'flour tortillas'), (0.04548665, 'chili powder'), (0.041574318, 'corn tortillas'), (0.041258067, 'shredded cheddar cheese'), (0.04005412, 'black beans'), (0.035882063, 'cilantro'), (0.029494077, 'salt'), (0.02804903, 'ground cumin'), (0.025951594, 'onions'), (0.024196101, 'green onions'), (0.024088703, 'cumin'), (0.02407113, 'avocado'), (0.021972302, 'jalapeno chilies'), (0.019412525, 'tomatoes'), (0.018115986, 'olive oil'), (0.017587774, 'pepper'), (0.015780745, 'corn'), (0.015665205, 'enchilada sauce')], -2.265196349503992), ([(0.09207527, 'soy sauce'), (0.05158997, 'sesame oil'), (0.043665424, 'scallions'), (0.042617723, 'green onions'), (0.04113012, 'rice vinegar'), (0.03961743, 'sugar'), (0.036486905, 'corn starch'), (0.035521343, 'garlic'), (0.03394648, 'vegetable oil'), (0.027046135, 'fresh ginger'), (0.02557938, 'water'), (0.024331067, 'ginger'), (0.024068948, 'carrots'), (0.020541605, 'sesame seeds'), (0.02005388, 'salt'), (0.016630845, 'garlic cloves'), (0.01288945, 'honey'), (0.012139073, 'minced garlic'), (0.011974201, 'canola oil'), (0.011792685, 'toasted sesame oil')], -2.3903040389724004), ([(0.10256394, 'chopped cilantro fresh'), (0.07604305, 'fresh lime juice'), (0.06844174, 'jalapeno chilies'), (0.051139083, 'white onion'), (0.045746896, 'salt'), (0.042451844, 'avocado'), (0.03802527, 'ground cumin'), (0.037204728, 'garlic cloves'), (0.027416999, 'cilantro leaves'), (0.027309356, 'vegetable oil'), (0.025344327, 'tomatoes'), (0.023943061, 'tomatillos'), (0.023204109, 'tortilla chips'), (0.0193345, 'purple onion'), (0.019044526, 'chiles'), (0.018996045, 'kosher salt'), (0.017896453, 'garlic'), (0.015882222, 'olive oil'), (0.015058202, 'canola oil'), (0.014376279, 'green onions')], -2.5227713117108337)]\n"
     ]
    },
    {
     "data": {
      "text/plain": [
       "[([(0.0977083, 'sour cream'),\n",
       "   (0.062702425, 'chili powder'),\n",
       "   (0.059592746, 'salsa'),\n",
       "   (0.05882949, 'flour tortillas'),\n",
       "   (0.051896583, 'ground cumin'),\n",
       "   (0.049738716, 'black beans'),\n",
       "   (0.041863758, 'corn tortillas'),\n",
       "   (0.026746972, 'green onions'),\n",
       "   (0.026666833, 'shredded cheddar cheese'),\n",
       "   (0.025904717, 'diced tomatoes'),\n",
       "   (0.022552595, 'chopped cilantro fresh'),\n",
       "   (0.021931104, 'shredded Monterey Jack cheese'),\n",
       "   (0.019748852, 'cumin'),\n",
       "   (0.019739462, 'enchilada sauce'),\n",
       "   (0.019661434, 'cooked chicken'),\n",
       "   (0.017771456, 'dried oregano'),\n",
       "   (0.01717193, 'green chile'),\n",
       "   (0.016805077, 'chicken broth'),\n",
       "   (0.016024433, 'avocado'),\n",
       "   (0.015644973, 'tomatoes')],\n",
       "  -2.6092048169232913),\n",
       " ([(0.0959823, 'jalapeno chilies'),\n",
       "   (0.07328977, 'lime'),\n",
       "   (0.06195737, 'lime juice'),\n",
       "   (0.060217384, 'avocado'),\n",
       "   (0.047023002, 'purple onion'),\n",
       "   (0.046755336, 'cilantro'),\n",
       "   (0.04233991, 'chopped cilantro'),\n",
       "   (0.042329945, 'fresh cilantro'),\n",
       "   (0.034970235, 'tomatoes'),\n",
       "   (0.031306494, 'chopped cilantro fresh'),\n",
       "   (0.028351903, 'fresh lime juice'),\n",
       "   (0.027450325, 'kosher salt'),\n",
       "   (0.02527583, 'ground cumin'),\n",
       "   (0.02441402, 'cilantro leaves'),\n",
       "   (0.023645632, 'lime wedges'),\n",
       "   (0.021552995, 'tomatillos'),\n",
       "   (0.021531273, 'white onion'),\n",
       "   (0.021056676, 'corn tortillas'),\n",
       "   (0.0122662345, 'cumin'),\n",
       "   (0.011493858, 'black beans')],\n",
       "  -2.6650788856772643),\n",
       " ([(0.11518998, 'soy sauce'),\n",
       "   (0.058798447, 'sesame oil'),\n",
       "   (0.049805846, 'scallions'),\n",
       "   (0.046752214, 'green onions'),\n",
       "   (0.04672712, 'corn starch'),\n",
       "   (0.042728525, 'rice vinegar'),\n",
       "   (0.03480787, 'ginger'),\n",
       "   (0.026307007, 'carrots'),\n",
       "   (0.026219688, 'fresh ginger'),\n",
       "   (0.021218942, 'sesame seeds'),\n",
       "   (0.0185433, 'brown sugar'),\n",
       "   (0.017788507, 'peanut oil'),\n",
       "   (0.015709743, 'mirin'),\n",
       "   (0.014964844, 'minced garlic'),\n",
       "   (0.014856874, 'oyster sauce'),\n",
       "   (0.014696915, 'oil'),\n",
       "   (0.014669416, 'honey'),\n",
       "   (0.013900938, 'hoisin sauce'),\n",
       "   (0.01256255, 'beansprouts'),\n",
       "   (0.012514117, 'light soy sauce')],\n",
       "  -2.8364349790638186)]"
      ]
     },
     "execution_count": 29,
     "metadata": {},
     "output_type": "execute_result"
    }
   ],
   "source": [
    "coh  = ldamodel.top_topics(corpus)\n",
    "coh2 = second_model.top_topics(corpus2)\n",
    "print(coh[:3])\n",
    "coh2[:3]"
   ]
  },
  {
   "cell_type": "code",
   "execution_count": 30,
   "metadata": {},
   "outputs": [],
   "source": [
    "nums = [c[1] for c in coh]\n",
    "nums2 = [c[1] for c in coh2]"
   ]
  },
  {
   "cell_type": "code",
   "execution_count": 31,
   "metadata": {},
   "outputs": [],
   "source": [
    "def save_answers3(coherence, coherence2):\n",
    "    with open(\"cooking_LDA_pa_task3.txt\", \"w\") as fout:\n",
    "        fout.write(\" \".join([\"%3f\"%el for el in [coherence, coherence2]]))"
   ]
  },
  {
   "cell_type": "code",
   "execution_count": 32,
   "metadata": {},
   "outputs": [],
   "source": [
    "save_answers3(np.mean(nums), np.mean(nums2))"
   ]
  },
  {
   "cell_type": "markdown",
   "metadata": {},
   "source": [
    "Считается, что когерентность хорошо соотносится с человеческими оценками интерпретируемости тем. Поэтому на больших текстовых коллекциях когерентность обычно повышается, если убрать фоновую лексику. Однако в нашем случае этого не произошло. "
   ]
  },
  {
   "cell_type": "markdown",
   "metadata": {},
   "source": [
    "### Изучение влияния гиперпараметра alpha"
   ]
  },
  {
   "cell_type": "markdown",
   "metadata": {},
   "source": [
    "В этом разделе мы будем работать со второй моделью, то есть той, которая построена по сокращенному корпусу. \n",
    "\n",
    "Пока что мы посмотрели только на матрицу темы-слова, теперь давайте посмотрим на матрицу темы-документы. Выведите темы для нулевого (или любого другого) документа из корпуса, воспользовавшись методом *get_document_topics* второй модели:"
   ]
  },
  {
   "cell_type": "code",
   "execution_count": 33,
   "metadata": {},
   "outputs": [
    {
     "data": {
      "text/plain": [
       "[(25, 0.12812275), (31, 0.61726636), (33, 0.13898271)]"
      ]
     },
     "execution_count": 33,
     "metadata": {},
     "output_type": "execute_result"
    }
   ],
   "source": [
    "second_model.get_document_topics(corpus2[0])"
   ]
  },
  {
   "cell_type": "markdown",
   "metadata": {},
   "source": [
    "Также выведите содержимое переменной *.alpha* второй модели:"
   ]
  },
  {
   "cell_type": "code",
   "execution_count": 34,
   "metadata": {},
   "outputs": [
    {
     "data": {
      "text/plain": [
       "array([0.025, 0.025, 0.025, 0.025, 0.025, 0.025, 0.025, 0.025, 0.025,\n",
       "       0.025, 0.025, 0.025, 0.025, 0.025, 0.025, 0.025, 0.025, 0.025,\n",
       "       0.025, 0.025, 0.025, 0.025, 0.025, 0.025, 0.025, 0.025, 0.025,\n",
       "       0.025, 0.025, 0.025, 0.025, 0.025, 0.025, 0.025, 0.025, 0.025,\n",
       "       0.025, 0.025, 0.025, 0.025], dtype=float32)"
      ]
     },
     "execution_count": 34,
     "metadata": {},
     "output_type": "execute_result"
    }
   ],
   "source": [
    "second_model.alpha"
   ]
  },
  {
   "cell_type": "markdown",
   "metadata": {},
   "source": [
    "У вас должно получиться, что документ характеризуется небольшим числом тем. Попробуем поменять гиперпараметр alpha, задающий априорное распределение Дирихле для распределений тем в документах."
   ]
  },
  {
   "cell_type": "markdown",
   "metadata": {},
   "source": [
    "__Задание 4.__ Обучите третью модель: используйте сокращенный корпус (corpus2 и dictionary2) и установите параметр __alpha=1__, passes=5. Не забудьте про фиксацию seed! Выведите темы новой модели для нулевого документа; должно получиться, что распределение над множеством тем практически равномерное. Чтобы убедиться в том, что во второй модели документы описываются гораздо более разреженными распределениями, чем в третьей, посчитайте суммарное количество элементов, __превосходящих 0.01__, в матрицах темы-документы обеих моделей. Другими словами, запросите темы  модели для каждого документа с параметром *minimum_probability=0.01* и просуммируйте число элементов в получаемых массивах. Передайте две суммы (сначала для модели с alpha по умолчанию, затем для модели в alpha=1) в функцию save_answers4."
   ]
  },
  {
   "cell_type": "code",
   "execution_count": 35,
   "metadata": {},
   "outputs": [
    {
     "name": "stdout",
     "output_type": "stream",
     "text": [
      "CPU times: user 1min 42s, sys: 452 ms, total: 1min 42s\n",
      "Wall time: 1min 43s\n"
     ]
    }
   ],
   "source": [
    "np.random.seed(76543)\n",
    "# здесь код для построения модели:\n",
    "%time third_model = models.ldamodel.LdaModel(corpus2, num_topics=40, id2word=dictionary2, passes=5, alpha=1)"
   ]
  },
  {
   "cell_type": "code",
   "execution_count": 36,
   "metadata": {},
   "outputs": [
    {
     "data": {
      "text/plain": [
       "[(0, 0.021397669),\n",
       " (1, 0.021295449),\n",
       " (2, 0.021276837),\n",
       " (3, 0.021365918),\n",
       " (4, 0.021295367),\n",
       " (5, 0.021311188),\n",
       " (6, 0.02130497),\n",
       " (7, 0.021280425),\n",
       " (8, 0.021401433),\n",
       " (9, 0.021379547),\n",
       " (10, 0.02183788),\n",
       " (11, 0.021492526),\n",
       " (12, 0.021276837),\n",
       " (13, 0.022189474),\n",
       " (14, 0.021718126),\n",
       " (15, 0.02150628),\n",
       " (16, 0.021404227),\n",
       " (17, 0.021964429),\n",
       " (18, 0.021329327),\n",
       " (19, 0.021678481),\n",
       " (20, 0.024654401),\n",
       " (21, 0.02127727),\n",
       " (22, 0.021276837),\n",
       " (23, 0.02128486),\n",
       " (24, 0.021771798),\n",
       " (25, 0.021494571),\n",
       " (26, 0.0214625),\n",
       " (27, 0.021634068),\n",
       " (28, 0.021495195),\n",
       " (29, 0.02130315),\n",
       " (30, 0.042615004),\n",
       " (31, 0.09219311),\n",
       " (32, 0.021500383),\n",
       " (33, 0.021278715),\n",
       " (34, 0.021446655),\n",
       " (35, 0.021365918),\n",
       " (36, 0.02133184),\n",
       " (37, 0.021289436),\n",
       " (38, 0.021277951),\n",
       " (39, 0.06833997)]"
      ]
     },
     "execution_count": 36,
     "metadata": {},
     "output_type": "execute_result"
    }
   ],
   "source": [
    "third_model.get_document_topics(corpus2[0])"
   ]
  },
  {
   "cell_type": "code",
   "execution_count": 37,
   "metadata": {},
   "outputs": [
    {
     "data": {
      "text/plain": [
       "array([1., 1., 1., 1., 1., 1., 1., 1., 1., 1., 1., 1., 1., 1., 1., 1., 1.,\n",
       "       1., 1., 1., 1., 1., 1., 1., 1., 1., 1., 1., 1., 1., 1., 1., 1., 1.,\n",
       "       1., 1., 1., 1., 1., 1.], dtype=float32)"
      ]
     },
     "execution_count": 37,
     "metadata": {},
     "output_type": "execute_result"
    }
   ],
   "source": [
    "third_model.alpha"
   ]
  },
  {
   "cell_type": "code",
   "execution_count": 38,
   "metadata": {},
   "outputs": [
    {
     "data": {
      "text/plain": [
       "<gensim.interfaces.TransformedCorpus at 0x10e6a0d90>"
      ]
     },
     "execution_count": 38,
     "metadata": {},
     "output_type": "execute_result"
    }
   ],
   "source": [
    "distr1 = second_model.get_document_topics(corpus2, minimum_probability=0.01)\n",
    "distr2 = third_model.get_document_topics(corpus2, minimum_probability=0.01)\n",
    "distr1[:3]"
   ]
  },
  {
   "cell_type": "code",
   "execution_count": 39,
   "metadata": {},
   "outputs": [],
   "source": [
    "def save_answers4(count_model2, count_model3):\n",
    "    with open(\"cooking_LDA_pa_task4.txt\", \"w\") as fout:\n",
    "        fout.write(\" \".join([str(el) for el in [count_model2, count_model3]]))"
   ]
  },
  {
   "cell_type": "code",
   "execution_count": 40,
   "metadata": {},
   "outputs": [],
   "source": [
    "size1 = 0\n",
    "for x in distr1:\n",
    "    size1 += len(x)\n",
    "    \n",
    "size2 = 0\n",
    "for x in distr2:\n",
    "    size2 += len(x)\n",
    "save_answers4(size1, size2)"
   ]
  },
  {
   "cell_type": "markdown",
   "metadata": {},
   "source": [
    "Таким образом, гиперпараметр __alpha__ влияет на разреженность распределений тем в документах. Аналогично гиперпараметр __eta__ влияет на разреженность распределений слов в темах."
   ]
  },
  {
   "cell_type": "markdown",
   "metadata": {},
   "source": [
    "### LDA как способ понижения размерности\n",
    "Иногда, распределения над темами, найденные с помощью LDA, добавляют в матрицу объекты-признаки как дополнительные, семантические, признаки, и это может улучшить качество решения задачи. Для простоты давайте просто обучим классификатор рецептов на кухни на признаках, полученных из LDA, и измерим точность (accuracy).\n",
    "\n",
    "__Задание 5.__ Используйте модель, построенную по сокращенной выборке с alpha по умолчанию (вторую модель). Составьте матрицу $\\Theta = p(t|d)$ вероятностей тем в документах; вы можете использовать тот же метод get_document_topics, а также вектор правильных ответов y (в том же порядке, в котором рецепты идут в переменной recipes). Создайте объект RandomForestClassifier со 100 деревьями, с помощью функции cross_val_score вычислите среднюю accuracy по трем фолдам (перемешивать данные не нужно) и передайте в функцию save_answers5."
   ]
  },
  {
   "cell_type": "code",
   "execution_count": 41,
   "metadata": {},
   "outputs": [],
   "source": [
    "from sklearn.ensemble import RandomForestClassifier\n",
    "from sklearn.model_selection import cross_val_score"
   ]
  },
  {
   "cell_type": "code",
   "execution_count": 42,
   "metadata": {},
   "outputs": [
    {
     "data": {
      "text/plain": [
       "[(0, 0.0025006582),\n",
       " (1, 0.0025006582),\n",
       " (2, 0.0025006582),\n",
       " (3, 0.0025006582),\n",
       " (4, 0.0025006582),\n",
       " (5, 0.0025006582),\n",
       " (6, 0.0025006582),\n",
       " (7, 0.0025006582),\n",
       " (8, 0.0025006582),\n",
       " (9, 0.0025006582),\n",
       " (10, 0.0025006582),\n",
       " (11, 0.1772165),\n",
       " (12, 0.0025006582),\n",
       " (13, 0.0025006582),\n",
       " (14, 0.0025006582),\n",
       " (15, 0.10251497),\n",
       " (16, 0.0025006582),\n",
       " (17, 0.103311636),\n",
       " (18, 0.0025006582),\n",
       " (19, 0.0025006582),\n",
       " (20, 0.0025006582),\n",
       " (21, 0.102523655),\n",
       " (22, 0.19427544),\n",
       " (23, 0.1351106),\n",
       " (24, 0.0025006582),\n",
       " (25, 0.0025006582),\n",
       " (26, 0.0025006582),\n",
       " (27, 0.0025006582),\n",
       " (28, 0.0025006582),\n",
       " (29, 0.10252548),\n",
       " (30, 0.0025006582),\n",
       " (31, 0.0025006582),\n",
       " (32, 0.0025006582),\n",
       " (33, 0.0025006582),\n",
       " (34, 0.0025006582),\n",
       " (35, 0.0025006582),\n",
       " (36, 0.0025006582),\n",
       " (37, 0.0025006582),\n",
       " (38, 0.0025006582),\n",
       " (39, 0.0025006582)]"
      ]
     },
     "execution_count": 42,
     "metadata": {},
     "output_type": "execute_result"
    }
   ],
   "source": [
    "topics = second_model.get_document_topics(corpus2, minimum_probability=0)\n",
    "topics[2]"
   ]
  },
  {
   "cell_type": "code",
   "execution_count": 43,
   "metadata": {},
   "outputs": [
    {
     "data": {
      "text/plain": [
       "array([[0.00312509, 0.00312509, 0.00312509, 0.00312509, 0.00312509,\n",
       "        0.00312509, 0.00312509, 0.00312509, 0.00312509, 0.00312509,\n",
       "        0.00312509, 0.00312509, 0.00312509, 0.00312509, 0.00312509,\n",
       "        0.00312509, 0.00312509, 0.00312509, 0.00312509, 0.00312509,\n",
       "        0.00312509, 0.00312509, 0.00312509, 0.00312509, 0.00312509,\n",
       "        0.12812273, 0.00312509, 0.00312509, 0.00312509, 0.00312509,\n",
       "        0.00312509, 0.61725014, 0.00312509, 0.13899897, 0.00312509,\n",
       "        0.00312509, 0.00312509, 0.00312509, 0.00312509, 0.00312509],\n",
       "       [0.00277785, 0.00277785, 0.00277785, 0.11388844, 0.32688203,\n",
       "        0.00277785, 0.00277785, 0.00277785, 0.00277785, 0.00277785,\n",
       "        0.00277785, 0.00277785, 0.234228  , 0.00277785, 0.00277785,\n",
       "        0.00277785, 0.00277785, 0.00277785, 0.00277785, 0.00277785,\n",
       "        0.00277785, 0.00277785, 0.00277785, 0.00277785, 0.00277785,\n",
       "        0.00277785, 0.00277785, 0.00277785, 0.00277785, 0.00277785,\n",
       "        0.00277785, 0.00277785, 0.00277785, 0.00277785, 0.00277785,\n",
       "        0.00277785, 0.00277785, 0.00277785, 0.00277785, 0.22499898],\n",
       "       [0.00250066, 0.00250066, 0.00250066, 0.00250066, 0.00250066,\n",
       "        0.00250066, 0.00250066, 0.00250066, 0.00250066, 0.00250066,\n",
       "        0.00250066, 0.17723067, 0.00250066, 0.00250066, 0.00250066,\n",
       "        0.10251491, 0.00250066, 0.10330969, 0.00250066, 0.00250066,\n",
       "        0.00250066, 0.1025236 , 0.19424804, 0.13512594, 0.00250066,\n",
       "        0.00250066, 0.00250066, 0.00250066, 0.00250066, 0.10252544,\n",
       "        0.00250066, 0.00250066, 0.00250066, 0.00250066, 0.00250066,\n",
       "        0.00250066, 0.00250066, 0.00250066, 0.00250066, 0.00250066]])"
      ]
     },
     "execution_count": 43,
     "metadata": {},
     "output_type": "execute_result"
    }
   ],
   "source": [
    "p = np.zeros([len(topics), 40])\n",
    "for i in range(len(topics)):\n",
    "    for t in topics[i]:\n",
    "        p[i, t[0]] = t[1]\n",
    "\n",
    "p[:3]"
   ]
  },
  {
   "cell_type": "code",
   "execution_count": 44,
   "metadata": {},
   "outputs": [
    {
     "data": {
      "text/plain": [
       "['greek', 'southern_us', 'filipino', 'indian', 'indian']"
      ]
     },
     "execution_count": 44,
     "metadata": {},
     "output_type": "execute_result"
    }
   ],
   "source": [
    "y = [recipe[\"cuisine\"] for recipe in recipes]\n",
    "y[:5]"
   ]
  },
  {
   "cell_type": "code",
   "execution_count": 45,
   "metadata": {},
   "outputs": [
    {
     "data": {
      "text/plain": [
       "array([0.55109994, 0.55688246, 0.55172847])"
      ]
     },
     "execution_count": 45,
     "metadata": {},
     "output_type": "execute_result"
    }
   ],
   "source": [
    "score = cross_val_score(RandomForestClassifier(n_estimators=100), p, y)\n",
    "score[:3]"
   ]
  },
  {
   "cell_type": "code",
   "execution_count": 46,
   "metadata": {},
   "outputs": [],
   "source": [
    "def save_answers5(accuracy):\n",
    "     with open(\"cooking_LDA_pa_task5.txt\", \"w\") as fout:\n",
    "        fout.write(str(accuracy))"
   ]
  },
  {
   "cell_type": "code",
   "execution_count": 47,
   "metadata": {},
   "outputs": [],
   "source": [
    "save_answers5(score.mean())"
   ]
  },
  {
   "cell_type": "markdown",
   "metadata": {},
   "source": [
    "Для такого большого количества классов это неплохая точность. Вы можете попроовать обучать RandomForest на исходной матрице частот слов, имеющей значительно большую размерность, и увидеть, что accuracy увеличивается на 10–15%. Таким образом, LDA собрал не всю, но достаточно большую часть информации из выборки, в матрице низкого ранга."
   ]
  },
  {
   "cell_type": "markdown",
   "metadata": {},
   "source": [
    "### LDA — вероятностная модель\n",
    "Матричное разложение, использующееся в LDA, интерпретируется как следующий процесс генерации документов.\n",
    "\n",
    "Для документа $d$ длины $n_d$:\n",
    "1. Из априорного распределения Дирихле с параметром alpha сгенерировать распределение над множеством тем: $\\theta_d \\sim Dirichlet(\\alpha)$\n",
    "1. Для каждого слова $w = 1, \\dots, n_d$:\n",
    "    1. Сгенерировать тему из дискретного распределения $t \\sim \\theta_{d}$\n",
    "    1. Сгенерировать слово из дискретного распределения $w \\sim \\phi_{t}$.\n",
    "    \n",
    "Подробнее об этом в [Википедии](https://en.wikipedia.org/wiki/Latent_Dirichlet_allocation).\n",
    "\n",
    "В контексте нашей задачи получается, что, используя данный генеративный процесс, можно создавать новые рецепты. Вы можете передать в функцию модель и число ингредиентов и сгенерировать рецепт :)"
   ]
  },
  {
   "cell_type": "code",
   "execution_count": 50,
   "metadata": {},
   "outputs": [],
   "source": [
    "def generate_recipe(model, num_ingredients):\n",
    "    theta = np.random.dirichlet(model.alpha)\n",
    "    for i in range(num_ingredients):\n",
    "        t = np.random.choice(np.arange(model.num_topics), p=theta)\n",
    "        topic = model.show_topic(t, topn=model.num_terms)\n",
    "        topic_distr = [x[1] for x in topic]\n",
    "        terms = [x[0] for x in topic]\n",
    "        w = np.random.choice(terms, p=topic_distr)\n",
    "        print(w)"
   ]
  },
  {
   "cell_type": "code",
   "execution_count": 51,
   "metadata": {},
   "outputs": [
    {
     "ename": "ValueError",
     "evalue": "probabilities do not sum to 1",
     "output_type": "error",
     "traceback": [
      "\u001b[0;31m---------------------------------------------------------------------------\u001b[0m",
      "\u001b[0;31mValueError\u001b[0m                                Traceback (most recent call last)",
      "\u001b[0;32m<ipython-input-51-8eac67d45112>\u001b[0m in \u001b[0;36m<module>\u001b[0;34m\u001b[0m\n\u001b[0;32m----> 1\u001b[0;31m \u001b[0mgenerate_recipe\u001b[0m\u001b[0;34m(\u001b[0m\u001b[0mldamodel\u001b[0m\u001b[0;34m,\u001b[0m \u001b[0;36m5\u001b[0m\u001b[0;34m)\u001b[0m\u001b[0;34m\u001b[0m\u001b[0;34m\u001b[0m\u001b[0m\n\u001b[0m",
      "\u001b[0;32m<ipython-input-50-1b559997ba91>\u001b[0m in \u001b[0;36mgenerate_recipe\u001b[0;34m(model, num_ingredients)\u001b[0m\n\u001b[1;32m      6\u001b[0m         \u001b[0mtopic_distr\u001b[0m \u001b[0;34m=\u001b[0m \u001b[0;34m[\u001b[0m\u001b[0mx\u001b[0m\u001b[0;34m[\u001b[0m\u001b[0;36m1\u001b[0m\u001b[0;34m]\u001b[0m \u001b[0;32mfor\u001b[0m \u001b[0mx\u001b[0m \u001b[0;32min\u001b[0m \u001b[0mtopic\u001b[0m\u001b[0;34m]\u001b[0m\u001b[0;34m\u001b[0m\u001b[0;34m\u001b[0m\u001b[0m\n\u001b[1;32m      7\u001b[0m         \u001b[0mterms\u001b[0m \u001b[0;34m=\u001b[0m \u001b[0;34m[\u001b[0m\u001b[0mx\u001b[0m\u001b[0;34m[\u001b[0m\u001b[0;36m0\u001b[0m\u001b[0;34m]\u001b[0m \u001b[0;32mfor\u001b[0m \u001b[0mx\u001b[0m \u001b[0;32min\u001b[0m \u001b[0mtopic\u001b[0m\u001b[0;34m]\u001b[0m\u001b[0;34m\u001b[0m\u001b[0;34m\u001b[0m\u001b[0m\n\u001b[0;32m----> 8\u001b[0;31m         \u001b[0mw\u001b[0m \u001b[0;34m=\u001b[0m \u001b[0mnp\u001b[0m\u001b[0;34m.\u001b[0m\u001b[0mrandom\u001b[0m\u001b[0;34m.\u001b[0m\u001b[0mchoice\u001b[0m\u001b[0;34m(\u001b[0m\u001b[0mterms\u001b[0m\u001b[0;34m,\u001b[0m \u001b[0mp\u001b[0m\u001b[0;34m=\u001b[0m\u001b[0mtopic_distr\u001b[0m\u001b[0;34m)\u001b[0m\u001b[0;34m\u001b[0m\u001b[0;34m\u001b[0m\u001b[0m\n\u001b[0m\u001b[1;32m      9\u001b[0m         \u001b[0mprint\u001b[0m\u001b[0;34m(\u001b[0m\u001b[0mw\u001b[0m\u001b[0;34m)\u001b[0m\u001b[0;34m\u001b[0m\u001b[0;34m\u001b[0m\u001b[0m\n",
      "\u001b[0;32mmtrand.pyx\u001b[0m in \u001b[0;36mnumpy.random.mtrand.RandomState.choice\u001b[0;34m()\u001b[0m\n",
      "\u001b[0;31mValueError\u001b[0m: probabilities do not sum to 1"
     ]
    }
   ],
   "source": [
    "generate_recipe(ldamodel, 5)"
   ]
  },
  {
   "cell_type": "markdown",
   "metadata": {},
   "source": [
    "### Интерпретация построенной модели\n",
    "Вы можете рассмотреть топы ингредиентов каждой темы. Большиснтво тем сами по себе похожи на рецепты; в некоторых собираются продукты одного вида, например, свежие фрукты или разные виды сыра.\n",
    "\n",
    "Попробуем эмпирически соотнести наши темы с национальными кухнями (cuisine). Построим матрицу $A$ размера темы $x$ кухни, ее элементы $a_{tc}$ — суммы $p(t|d)$ по всем документам $d$, которые отнесены к кухне $c$. Нормируем матрицу на частоты рецептов по разным кухням, чтобы избежать дисбаланса между кухнями. Следующая функция получает на вход объект модели, объект корпуса и исходные данные и возвращает нормированную матрицу $A$. Ее удобно визуализировать с помощью seaborn."
   ]
  },
  {
   "cell_type": "code",
   "execution_count": 52,
   "metadata": {},
   "outputs": [],
   "source": [
    "import pandas\n",
    "import seaborn\n",
    "from matplotlib import pyplot as plt\n",
    "%matplotlib inline"
   ]
  },
  {
   "cell_type": "code",
   "execution_count": 53,
   "metadata": {},
   "outputs": [],
   "source": [
    "def compute_topic_cuisine_matrix(model, corpus, recipes):\n",
    "    # составляем вектор целевых признаков\n",
    "    targets = list(set([recipe[\"cuisine\"] for recipe in recipes]))\n",
    "    # составляем матрицу\n",
    "    tc_matrix = pandas.DataFrame(data=np.zeros((model.num_topics, len(targets))), columns=targets)\n",
    "    for recipe, bow in zip(recipes, corpus):\n",
    "        recipe_topic = model.get_document_topics(bow)\n",
    "        for t, prob in recipe_topic:\n",
    "            tc_matrix[recipe[\"cuisine\"]][t] += prob\n",
    "    # нормируем матрицу\n",
    "    target_sums = pandas.DataFrame(data=np.zeros((1, len(targets))), columns=targets)\n",
    "    for recipe in recipes:\n",
    "        target_sums[recipe[\"cuisine\"]] += 1\n",
    "    return pandas.DataFrame(tc_matrix.values/target_sums.values, columns=tc_matrix.columns)"
   ]
  },
  {
   "cell_type": "code",
   "execution_count": 54,
   "metadata": {},
   "outputs": [],
   "source": [
    "def plot_matrix(tc_matrix):\n",
    "    plt.figure(figsize=(10, 10))\n",
    "    seaborn.heatmap(tc_matrix, square=True)"
   ]
  },
  {
   "cell_type": "code",
   "execution_count": 55,
   "metadata": {},
   "outputs": [
    {
     "data": {
      "image/png": "[encoded data removed]",
      "text/plain": [
       "<Figure size 720x720 with 2 Axes>"
      ]
     },
     "metadata": {
      "needs_background": "light"
     },
     "output_type": "display_data"
    }
   ],
   "source": [
    "# Визуализируйте матрицу\n",
    "matrix = compute_topic_cuisine_matrix(ldamodel, corpus, recipes)\n",
    "plot_matrix(matrix)"
   ]
  },
  {
   "cell_type": "markdown",
   "metadata": {},
   "source": [
    "Чем темнее квадрат в матрице, тем больше связь этой темы с данной кухней. Мы видим, что у нас есть темы, которые связаны с несколькими кухнями. Такие темы показывают набор ингредиентов, которые популярны в кухнях нескольких народов, то есть указывают на схожесть кухонь этих народов. Некоторые темы распределены по всем кухням равномерно, они показывают наборы продуктов, которые часто используются в кулинарии всех стран. "
   ]
  },
  {
   "cell_type": "markdown",
   "metadata": {},
   "source": [
    "Жаль, что в датасете нет названий рецептов, иначе темы было бы проще интерпретировать..."
   ]
  },
  {
   "cell_type": "markdown",
   "metadata": {},
   "source": [
    "### Заключение\n",
    "В этом задании вы построили несколько моделей LDA, посмотрели, на что влияют гиперпараметры модели и как можно использовать построенную модель. "
   ]
  }
 ],
 "metadata": {
  "kernelspec": {
   "display_name": "Python 3",
   "language": "python",
   "name": "python3"
  },
  "language_info": {
   "codemirror_mode": {
    "name": "ipython",
    "version": 3
   },
   "file_extension": ".py",
   "mimetype": "text/x-python",
   "name": "python",
   "nbconvert_exporter": "python",
   "pygments_lexer": "ipython3",
   "version": "3.9.0"
  }
 },
 "nbformat": 4,
 "nbformat_minor": 1
}
