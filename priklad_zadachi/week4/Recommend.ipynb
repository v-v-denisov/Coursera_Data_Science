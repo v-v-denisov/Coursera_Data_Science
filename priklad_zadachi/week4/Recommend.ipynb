{
 "cells": [
  {
   "cell_type": "markdown",
   "metadata": {},
   "source": [
    "## Задание по программированию: Рекомендательные системы\n",
    "\n",
    "### Описание задачи\n",
    "\n",
    "Небольшой интернет-магазин попросил вас добавить ранжирование товаров в блок \"Смотрели ранее\" - в нем теперь надо показывать не последние просмотренные пользователем товары, а те товары из просмотренных, которые он наиболее вероятно купит. Качество вашего решения будет оцениваться по количеству покупок в сравнении с прошлым решением в ходе А/В теста, т.к. по доходу от продаж статзначимость будет достигаться дольше из-за разброса цен. Таким образом, ничего заранее не зная про корреляцию оффлайновых и онлайновых метрик качества, в начале проекта вы можете лишь постараться оптимизировать recall@k и precision@k.  \n",
    "\n",
    "Это задание посвящено построению простых бейзлайнов для этой задачи: ранжирование просмотренных товаров по частоте просмотров и по частоте покупок. Эти бейзлайны, с одной стороны, могут помочь вам грубо оценить возможный эффект от ранжирования товаров в блоке - например, чтобы вписать какие-то числа в коммерческое предложение заказчику, а с другой стороны, могут оказаться самым хорошим вариантом, если данных очень мало (недостаточно для обучения даже простых моделей).\n",
    "\n",
    "### Входные данные\n",
    "\n",
    "Вам дается две выборки с пользовательскими сессиями - id-шниками просмотренных и id-шниками купленных товаров. Одна выборка будет использоваться для обучения (оценки популярностей товаров), а другая - для теста.\n",
    "\n",
    "В файлах записаны сессии по одной в каждой строке. Формат сессии: id просмотренных товаров через , затем идёт ; после чего следуют id купленных товаров (если такие имеются), разделённые запятой. Например, 1,2,3,4; или 1,2,3,4;5,6.\n",
    "\n",
    "Гарантируется, что среди id купленных товаров все различные.\n",
    "\n",
    "### Важно:\n",
    "\n",
    "    Сессии, в которых пользователь ничего не купил, исключаем из оценки качества.\n",
    "    Если товар не встречался в обучающей выборке, его популярность равна 0.\n",
    "    Рекомендуем разные товары. И их число должно быть не больше, чем количество различных просмотренных пользователем товаров.\n",
    "    Рекомендаций всегда не больше, чем минимум из двух чисел: количество просмотренных пользователем товаров и k в recall@k / precision@k.\n",
    "    \n",
    "### Задание\n",
    "\n",
    "1. На обучении постройте частоты появления id в просмотренных и в купленных (id может несколько раз появляться в просмотренных, все появления надо учитывать)\n",
    "\n",
    "2. Реализуйте два алгоритма рекомендаций:\n",
    "\n",
    "    сортировка просмотренных id по популярности (частота появления в просмотренных),\n",
    "    сортировка просмотренных id по покупаемости (частота появления в покупках).\n",
    "\n",
    "3. Для данных алгоритмов выпишите через пробел AverageRecall@1, AveragePrecision@1, AverageRecall@5, AveragePrecision@5 на обучающей и тестовых выборках, округляя до 2 знака после запятой. Это будут ваши ответы в этом задании. Посмотрите, как они соотносятся друг с другом. Где качество получилось выше? Значимо ли это различие?           Обратите внимание на различие качества на обучающей и тестовой           выборке в случае рекомендаций по частотам покупки.\n",
    "\n",
    "\n",
    "\n",
    "Если частота одинаковая, то сортировать нужно по возрастанию момента просмотра (чем раньше появился в просмотренных, тем больше приоритет)\n",
    "\n",
    "Дополнительные вопросы\n",
    "\n",
    "    Обратите внимание, что при сортировке по покупаемости возникает много товаров с одинаковым рангом - это означает, что значение метрик будет зависеть от того, как мы будем сортировать товары с одинаковым рангом. Попробуйте убедиться, что при изменении сортировки таких товаров recall@k меняется. Подумайте, как оценить минимальное и максимальное значение recall@k в зависимости от правила сортировки.\n",
    "    Мы обучаемся и тестируемся на полных сессиях (в которых есть все просмотренные за сессию товары). Подумайте, почему полученная нами оценка качества рекомендаций в этом случае несколько завышена.\n",
    "\n"
   ]
  },
  {
   "cell_type": "code",
   "execution_count": 1,
   "metadata": {},
   "outputs": [],
   "source": [
    "import numpy as np\n",
    "import pandas as pd"
   ]
  },
  {
   "cell_type": "code",
   "execution_count": 2,
   "metadata": {},
   "outputs": [],
   "source": [
    "with open('coursera_sessions_train.txt', 'r') as f:\n",
    "    train = f.read().splitlines()\n",
    "with open('coursera_sessions_test.txt', 'r') as f:\n",
    "    test = f.read().splitlines()"
   ]
  },
  {
   "cell_type": "code",
   "execution_count": 3,
   "metadata": {},
   "outputs": [
    {
     "data": {
      "text/plain": [
       "['0,1,2,3,4,5;',\n",
       " '9,10,11,9,11,12,9,11;',\n",
       " '16,17,18,19,20,21;',\n",
       " '24,25,26,27,24;',\n",
       " '34,35,36,34,37,35,36,37,38,39,38,39;']"
      ]
     },
     "execution_count": 3,
     "metadata": {},
     "output_type": "execute_result"
    }
   ],
   "source": [
    "train[0:5]"
   ]
  },
  {
   "cell_type": "code",
   "execution_count": 4,
   "metadata": {},
   "outputs": [
    {
     "data": {
      "text/plain": [
       "['6,7,8;', '13,14,15;', '22,23;', '28,29,30,31,32,33;', '40,41;']"
      ]
     },
     "execution_count": 4,
     "metadata": {},
     "output_type": "execute_result"
    }
   ],
   "source": [
    "test[0:5]"
   ]
  },
  {
   "cell_type": "code",
   "execution_count": 5,
   "metadata": {},
   "outputs": [],
   "source": [
    "# l - look, p - purchase\n",
    "def look_purchase(file):\n",
    "    file_lp = []\n",
    "    for session in file:\n",
    "        l_items, p_items = session.split(';')\n",
    "        l_items = map(int, l_items.split(','))\n",
    "        if len(p_items) > 0:\n",
    "            p_items = map(int, p_items.split(','))\n",
    "        else:\n",
    "            p_items = []\n",
    "        file_lp.append([l_items, p_items])\n",
    "        return file_lp"
   ]
  },
  {
   "cell_type": "code",
   "execution_count": 6,
   "metadata": {},
   "outputs": [],
   "source": [
    "train_lp = look_purchase(train)\n",
    "test_lp = look_purchase(test)"
   ]
  },
  {
   "cell_type": "code",
   "execution_count": 12,
   "metadata": {},
   "outputs": [],
   "source": [
    "# Array of looks\n",
    "train_l = [row[0] for row in train_lp]\n",
    "train_l_np = np.array( [id_n for session in train_l for id_n in session] )\n",
    "\n",
    "# Array of unique ids and looks in train data\n",
    "train_l_cnt = np.transpose(np.unique(train_l_np, return_counts=True))"
   ]
  },
  {
   "cell_type": "code",
   "execution_count": 13,
   "metadata": {},
   "outputs": [
    {
     "data": {
      "text/plain": [
       "array([[0, 1],\n",
       "       [1, 1],\n",
       "       [2, 1],\n",
       "       [3, 1],\n",
       "       [4, 1],\n",
       "       [5, 1]])"
      ]
     },
     "execution_count": 13,
     "metadata": {},
     "output_type": "execute_result"
    }
   ],
   "source": [
    "train_l_cnt"
   ]
  },
  {
   "cell_type": "code",
   "execution_count": 14,
   "metadata": {},
   "outputs": [],
   "source": [
    "# Array of purchases\n",
    "train_p = [row[1] for row in train_lp]\n",
    "train_p_np = np.array( [id_n for session in train_p for id_n in session] )\n",
    "\n",
    "# Array of unique ids and purchases in train dataset\n",
    "train_p_cnt = np.transpose(np.unique(train_p_np, return_counts=True))"
   ]
  },
  {
   "cell_type": "code",
   "execution_count": 15,
   "metadata": {},
   "outputs": [
    {
     "data": {
      "text/plain": [
       "array([], shape=(0, 2), dtype=float64)"
      ]
     },
     "execution_count": 15,
     "metadata": {},
     "output_type": "execute_result"
    }
   ],
   "source": [
    "train_p_cnt"
   ]
  },
  {
   "cell_type": "code",
   "execution_count": 17,
   "metadata": {},
   "outputs": [],
   "source": [
    "# Sorting arrays of looks and purchases by counts\n",
    "train_l_cnt = train_l_cnt[train_l_cnt[:,1].argsort()][::-1]\n",
    "train_p_cnt = train_p_cnt[train_p_cnt[:,1].argsort()][::-1]"
   ]
  },
  {
   "cell_type": "code",
   "execution_count": 18,
   "metadata": {},
   "outputs": [],
   "source": [
    "def prec_rec_metrics(session, reccomendations, k):\n",
    "    purchase = 0\n",
    "    for ind in reccomendations:\n",
    "        if ind in session:\n",
    "            purchase += 1 \n",
    "    precision = purchase / k\n",
    "    recall = purchase / len(session)\n",
    "    return(precision, recall)"
   ]
  },
  {
   "cell_type": "code",
   "execution_count": 19,
   "metadata": {},
   "outputs": [],
   "source": [
    "# Calculate metrics for train dataset, suggestions based on looks\n",
    "prec_at_1_tr_l, rec_at_1_tr_l = [], []\n",
    "prec_at_5_tr_l, rec_at_5_tr_l = [], []\n",
    "k1, k5 = 1, 5\n",
    "for i, sess_p in enumerate(train_p):\n",
    "    # skip sessions without purchases\n",
    "    if sess_p == []: continue\n",
    "    \n",
    "    # looks ids\n",
    "    sess_l = train_l[i]\n",
    "\n",
    "    # sorted looks ids indices in sess_train_l_cnt array\n",
    "    # sort in accordance with looks counts\n",
    "    l_ind_sess = []\n",
    "    for j in range(len(sess_l)):\n",
    "        l_ind_sess.append(np.where(train_l_cnt[:,0] == sess_l[j])[0][0])\n",
    "    l_ind_sess_sorted = np.unique(l_ind_sess)\n",
    "    \n",
    "    # k1 recommendations\n",
    "    num_of_recs_k1 = min(k1, len(sess_l))\n",
    "    if num_of_recs_k1 == 0: continue\n",
    "    recs_k1 = train_l_cnt[l_ind_sess_sorted[:num_of_recs_k1],0]\n",
    "    \n",
    "    # k1 metrics\n",
    "    prec_1, rec_1 = prec_rec_metrics(sess_p, recs_k1, k1)\n",
    "    prec_at_1_tr_l.append(prec_1)\n",
    "    rec_at_1_tr_l.append(rec_1)\n",
    "    \n",
    "    # k5 recommendations\n",
    "    num_of_recs_k5 = min(k5, len(sess_l))\n",
    "    if num_of_recs_k5 == 0: continue\n",
    "    recs_k5 = train_l_cnt[l_ind_sess_sorted[:num_of_recs_k5],0]\n",
    "    \n",
    "    # k5 metrics\n",
    "    prec_5, rec_5 = prec_rec_metrics(sess_p, recs_k5, k5)\n",
    "    prec_at_5_tr_l.append(prec_5)\n",
    "    rec_at_5_tr_l.append(rec_5)"
   ]
  },
  {
   "cell_type": "code",
   "execution_count": 21,
   "metadata": {},
   "outputs": [],
   "source": [
    "avg_prec_at_1_tr_l = np.mean(prec_at_1_tr_l)\n",
    "avg_rec_at_1_tr_l = np.mean(rec_at_1_tr_l)\n",
    "avg_prec_at_5_tr_l = np.mean(prec_at_5_tr_l)\n",
    "avg_rec_at_5_tr_l = np.mean(rec_at_5_tr_l)"
   ]
  },
  {
   "cell_type": "code",
   "execution_count": 22,
   "metadata": {},
   "outputs": [
    {
     "name": "stdout",
     "output_type": "stream",
     "text": [
      "Answer 1: nan nan nan nan\n"
     ]
    }
   ],
   "source": [
    "with open('ans1.txt', 'w') as f:\n",
    "    r1 = '%.2f' % round(avg_rec_at_1_tr_l, 2)\n",
    "    p1 = '%.2f' % round(avg_prec_at_1_tr_l, 2)\n",
    "    r5 = '%.2f' % round(avg_rec_at_5_tr_l, 2)\n",
    "    p5 = '%.2f' % round(avg_prec_at_5_tr_l, 2)\n",
    "    ans1 = ' '.join([r1, p1, r5, p5])\n",
    "    print('Answer 1:', ans1)\n",
    "    f.write(ans1)"
   ]
  },
  {
   "cell_type": "code",
   "execution_count": 25,
   "metadata": {},
   "outputs": [
    {
     "name": "stdout",
     "output_type": "stream",
     "text": [
      "Answer 1: nan nan nan nan\n"
     ]
    }
   ],
   "source": [
    "with open('ans4.txt', 'w') as f:\n",
    "    r1 = '%.2f' % round(avg_rec_at_1_tr_l, 2)\n",
    "    p1 = '%.2f' % round(avg_prec_at_1_tr_l, 2)\n",
    "    r5 = '%.2f' % round(avg_rec_at_5_tr_l, 2)\n",
    "    p5 = '%.2f' % round(avg_prec_at_5_tr_l, 2)\n",
    "    ans3 = ' '.join([r1, p1, r5, p5])\n",
    "    print('Answer 1:', ans2)\n",
    "    f.write(ans3)"
   ]
  },
  {
   "cell_type": "code",
   "execution_count": null,
   "metadata": {},
   "outputs": [],
   "source": []
  }
 ],
 "metadata": {
  "kernelspec": {
   "display_name": "Python 3",
   "language": "python",
   "name": "python3"
  },
  "language_info": {
   "codemirror_mode": {
    "name": "ipython",
    "version": 3
   },
   "file_extension": ".py",
   "mimetype": "text/x-python",
   "name": "python",
   "nbconvert_exporter": "python",
   "pygments_lexer": "ipython3",
   "version": "3.9.0"
  }
 },
 "nbformat": 4,
 "nbformat_minor": 4
}
