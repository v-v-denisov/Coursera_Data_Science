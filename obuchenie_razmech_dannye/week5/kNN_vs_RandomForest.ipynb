{
 "cells": [
  {
   "cell_type": "code",
   "execution_count": 10,
   "metadata": {},
   "outputs": [],
   "source": [
    "from sklearn.datasets import load_digits\n",
    "import numpy as np\n",
    "from sklearn.metrics import accuracy_score\n",
    "from sklearn.ensemble import RandomForestClassifier"
   ]
  },
  {
   "cell_type": "code",
   "execution_count": 11,
   "metadata": {},
   "outputs": [],
   "source": [
    "data = load_digits()\n",
    "\n",
    "X = data.data\n",
    "y = data.target\n",
    "n = int(X.shape[0]*0.75)\n",
    "X_train = X[:n,:]\n",
    "X_test = X[n:,:]\n",
    "y_train = y[:n]\n",
    "y_test = y[n:]"
   ]
  },
  {
   "cell_type": "code",
   "execution_count": 12,
   "metadata": {},
   "outputs": [],
   "source": [
    "def euclid_metric(x1, x2):\n",
    "    return np.sum((x1-x2)**2)"
   ]
  },
  {
   "cell_type": "code",
   "execution_count": 14,
   "metadata": {},
   "outputs": [],
   "source": [
    "def write_to_file(value, name):\n",
    "    with open(name, 'w') as f:\n",
    "        f.write(str(value))"
   ]
  },
  {
   "cell_type": "code",
   "execution_count": 23,
   "metadata": {},
   "outputs": [],
   "source": [
    "def one_nn(X_train, y_train, X_test, y_test):\n",
    "    \n",
    "    predicted = []\n",
    "    for t in X_test:\n",
    "        min_dist = np.inf\n",
    "        label = 0\n",
    "        for i in range(X_train.shape[0]):\n",
    "            distance = euclid_metric(t, X_train[i])\n",
    "            if distance < min_dist:\n",
    "                min_dist = distance\n",
    "                label = int(y_train[i])\n",
    "        predicted.append(label)\n",
    "        \n",
    "    print(predicted[:10])\n",
    "    return accuracy_score(y_test, predicted)"
   ]
  },
  {
   "cell_type": "code",
   "execution_count": 24,
   "metadata": {},
   "outputs": [
    {
     "name": "stdout",
     "output_type": "stream",
     "text": [
      "[3, 7, 3, 3, 4, 6, 6, 6, 4, 9]\n",
      "0.9622222222222222\n",
      "CPU times: user 15.8 s, sys: 58 ms, total: 15.9 s\n",
      "Wall time: 16.6 s\n"
     ]
    }
   ],
   "source": [
    "%%time\n",
    "score = one_nn(X_train, y_train, X_test, y_test)\n",
    "print(score)"
   ]
  },
  {
   "cell_type": "code",
   "execution_count": 19,
   "metadata": {},
   "outputs": [],
   "source": [
    "write_to_file(1-score, \"kNN.txt\")"
   ]
  },
  {
   "cell_type": "code",
   "execution_count": 21,
   "metadata": {},
   "outputs": [
    {
     "name": "stdout",
     "output_type": "stream",
     "text": [
      "0.9355555555555556\n"
     ]
    }
   ],
   "source": [
    "clf = RandomForestClassifier(n_estimators=1000)\n",
    "clf.fit(X_train, y_train)\n",
    "pred = clf.predict(X_test)\n",
    "rf_score = accuracy_score(y_test, pred)\n",
    "print(rm_score)"
   ]
  },
  {
   "cell_type": "code",
   "execution_count": 22,
   "metadata": {},
   "outputs": [],
   "source": [
    "write_to_file(1-rm_score, \"RandomForest.txt\")"
   ]
  },
  {
   "cell_type": "code",
   "execution_count": null,
   "metadata": {},
   "outputs": [],
   "source": []
  }
 ],
 "metadata": {
  "kernelspec": {
   "display_name": "Python 3",
   "language": "python",
   "name": "python3"
  },
  "language_info": {
   "codemirror_mode": {
    "name": "ipython",
    "version": 3
   },
   "file_extension": ".py",
   "mimetype": "text/x-python",
   "name": "python",
   "nbconvert_exporter": "python",
   "pygments_lexer": "ipython3",
   "version": "3.9.0"
  }
 },
 "nbformat": 4,
 "nbformat_minor": 4
}
