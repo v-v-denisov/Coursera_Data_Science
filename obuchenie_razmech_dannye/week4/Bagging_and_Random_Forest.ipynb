{
 "cells": [
  {
   "cell_type": "code",
   "execution_count": 1,
   "metadata": {},
   "outputs": [
    {
     "name": "stdout",
     "output_type": "stream",
     "text": [
      "Populating the interactive namespace from numpy and matplotlib\n"
     ]
    }
   ],
   "source": [
    "%pylab inline"
   ]
  },
  {
   "cell_type": "code",
   "execution_count": 2,
   "metadata": {},
   "outputs": [],
   "source": [
    "from sklearn import ensemble, model_selection, metrics, datasets, tree \n",
    "\n",
    "import numpy as np\n",
    "import pandas as pd"
   ]
  },
  {
   "cell_type": "markdown",
   "metadata": {},
   "source": [
    "загружаем данные из datasets с помощью load_digits()"
   ]
  },
  {
   "cell_type": "code",
   "execution_count": 3,
   "metadata": {},
   "outputs": [],
   "source": [
    "data = datasets.load_digits()"
   ]
  },
  {
   "cell_type": "code",
   "execution_count": 4,
   "metadata": {},
   "outputs": [],
   "source": [
    "X = data['data'] #матрица признаков\n",
    "y = data['target']  #ответы"
   ]
  },
  {
   "cell_type": "code",
   "execution_count": 16,
   "metadata": {},
   "outputs": [],
   "source": [
    "d =X.shape[1]\n",
    "d_squared = np.sqrt(d)"
   ]
  },
  {
   "cell_type": "code",
   "execution_count": 5,
   "metadata": {},
   "outputs": [],
   "source": [
    "X_train, X_test, y_train, y_test = model_selection.train_test_split(X, y,\n",
    "                                                                    test_size = 0.3,\n",
    "                                                                    random_state = 0)"
   ]
  },
  {
   "cell_type": "code",
   "execution_count": 6,
   "metadata": {},
   "outputs": [],
   "source": [
    "clf = tree.DecisionTreeClassifier(random_state=0)\n",
    "ans_1 = model_selection.cross_val_score(clf, X, y, cv =10).mean()\n",
    "with open(\"bagging_1.txt\", \"w\") as fout:\n",
    "    fout.write(str(ans_1))"
   ]
  },
  {
   "cell_type": "code",
   "execution_count": 8,
   "metadata": {},
   "outputs": [],
   "source": [
    "bclf = ensemble.BaggingClassifier(n_estimators=100, random_state = 0)\n",
    "ans_2 = model_selection.cross_val_score(bclf, X, y, cv =10).mean()\n",
    "with open(\"bagging_2.txt\", \"w\") as fout:\n",
    "    fout.write(str(ans_2))"
   ]
  },
  {
   "cell_type": "code",
   "execution_count": 9,
   "metadata": {},
   "outputs": [
    {
     "data": {
      "text/plain": [
       "0.9253786468032278"
      ]
     },
     "execution_count": 9,
     "metadata": {},
     "output_type": "execute_result"
    }
   ],
   "source": [
    "ans_2"
   ]
  },
  {
   "cell_type": "code",
   "execution_count": 18,
   "metadata": {},
   "outputs": [],
   "source": [
    "bclf_new = ensemble.BaggingClassifier(n_estimators=100, max_features = int(d_squared), random_state = 0)\n",
    "ans_3 = model_selection.cross_val_score(bclf_new, X, y, cv =10).mean()\n",
    "with open(\"bagging_3.txt\", \"w\") as fout:\n",
    "    fout.write(str(ans_3))"
   ]
  },
  {
   "cell_type": "code",
   "execution_count": 26,
   "metadata": {},
   "outputs": [
    {
     "name": "stdout",
     "output_type": "stream",
     "text": [
      "0.9510211049037863\n"
     ]
    }
   ],
   "source": [
    "clf_n = tree.DecisionTreeClassifier(max_features = 'sqrt', random_state=0)\n",
    "bclf_n = ensemble.BaggingClassifier(clf_n, n_estimators=100, random_state = 0)\n",
    "ans_4 = model_selection.cross_val_score(bclf_n, X, y, cv =10).mean()\n",
    "with open(\"bagging_4.txt\", \"w\") as fout:\n",
    "    fout.write(str(ans_4))\n",
    "print(ans_4)"
   ]
  },
  {
   "cell_type": "code",
   "execution_count": 43,
   "metadata": {},
   "outputs": [],
   "source": [
    "means = []\n",
    "std = []\n",
    "for n in [1,5,10,20,50,100]:\n",
    "    rfcl = ensemble.RandomForestClassifier(n_estimators=n, random_state = 0)\n",
    "    means.append(model_selection.cross_val_score(rfcl, X, y, cv =10).mean())\n",
    "    std.append(model_selection.cross_val_score(rfcl, X, y, cv =10).std())"
   ]
  },
  {
   "cell_type": "code",
   "execution_count": 44,
   "metadata": {},
   "outputs": [],
   "source": [
    "means_feat = []\n",
    "std_feat = []\n",
    "for n in [5,10,40,50]:\n",
    "    rfcl = ensemble.RandomForestClassifier(max_features = n, random_state = 0)\n",
    "    means_feat.append(model_selection.cross_val_score(rfcl, X, y, cv =10).mean())\n",
    "    std_feat.append(model_selection.cross_val_score(rfcl, X, y, cv =10).std())"
   ]
  },
  {
   "cell_type": "code",
   "execution_count": 45,
   "metadata": {},
   "outputs": [],
   "source": [
    "means_dep = []\n",
    "std_dep = []\n",
    "for n in [2,5, 10,50]:\n",
    "    rfcl = ensemble.RandomForestClassifier(max_depth = n, random_state = 0)\n",
    "    means_dep.append(model_selection.cross_val_score(rfcl, X, y, cv =10).mean())\n",
    "    std_dep.append(model_selection.cross_val_score(rfcl, X, y, cv =10).std())"
   ]
  },
  {
   "cell_type": "code",
   "execution_count": 41,
   "metadata": {},
   "outputs": [],
   "source": [
    "with open(\"bagging_5.txt\", \"w\") as fout:\n",
    "    fout.write('2 3 5 6')"
   ]
  },
  {
   "cell_type": "code",
   "execution_count": 64,
   "metadata": {},
   "outputs": [
    {
     "data": {
      "text/plain": [
       "[<matplotlib.lines.Line2D at 0x126062410>]"
      ]
     },
     "execution_count": 64,
     "metadata": {},
     "output_type": "execute_result"
    },
    {
     "data": {
      "image/png": "[encoded data removed]",
      "text/plain": [
       "<Figure size 432x288 with 1 Axes>"
      ]
     },
     "metadata": {
      "needs_background": "light"
     },
     "output_type": "display_data"
    }
   ],
   "source": [
    "n = [2,5,10,50]\n",
    "#plt.plot(n, means_dep)\n",
    "plt.plot(n, std_feat)"
   ]
  },
  {
   "cell_type": "code",
   "execution_count": null,
   "metadata": {},
   "outputs": [],
   "source": []
  }
 ],
 "metadata": {
  "kernelspec": {
   "display_name": "Python 3",
   "language": "python",
   "name": "python3"
  },
  "language_info": {
   "codemirror_mode": {
    "name": "ipython",
    "version": 3
   },
   "file_extension": ".py",
   "mimetype": "text/x-python",
   "name": "python",
   "nbconvert_exporter": "python",
   "pygments_lexer": "ipython3",
   "version": "3.7.6"
  }
 },
 "nbformat": 4,
 "nbformat_minor": 2
}
